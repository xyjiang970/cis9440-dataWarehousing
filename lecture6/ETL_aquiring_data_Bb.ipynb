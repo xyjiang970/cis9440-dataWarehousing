{
 "cells": [
  {
   "cell_type": "markdown",
   "metadata": {},
   "source": [
    "# ETL Pipeline (first steps)\n",
    "---"
   ]
  },
  {
   "cell_type": "markdown",
   "metadata": {},
   "source": [
    "### Step 0: Install the required python packages"
   ]
  },
  {
   "cell_type": "code",
   "execution_count": 1,
   "metadata": {},
   "outputs": [
    {
     "name": "stdout",
     "output_type": "stream",
     "text": [
      "Requirement already satisfied: sodapy in /opt/anaconda3/lib/python3.9/site-packages (2.2.0)\n",
      "Requirement already satisfied: requests>=2.28.1 in /opt/anaconda3/lib/python3.9/site-packages (from sodapy) (2.28.1)\n",
      "Requirement already satisfied: idna<4,>=2.5 in /opt/anaconda3/lib/python3.9/site-packages (from requests>=2.28.1->sodapy) (3.3)\n",
      "Requirement already satisfied: certifi>=2017.4.17 in /opt/anaconda3/lib/python3.9/site-packages (from requests>=2.28.1->sodapy) (2021.10.8)\n",
      "Requirement already satisfied: urllib3<1.27,>=1.21.1 in /opt/anaconda3/lib/python3.9/site-packages (from requests>=2.28.1->sodapy) (1.26.9)\n",
      "Requirement already satisfied: charset-normalizer<3,>=2 in /opt/anaconda3/lib/python3.9/site-packages (from requests>=2.28.1->sodapy) (2.0.4)\n",
      "Note: you may need to restart the kernel to use updated packages.\n"
     ]
    }
   ],
   "source": [
    "pip install --upgrade sodapy"
   ]
  },
  {
   "cell_type": "markdown",
   "metadata": {},
   "source": [
    "#### Now, on the top of your Notebook select \"Kernel\" -> \"Restart and Clear Output\"\n",
    "Then, continue from the next cell"
   ]
  },
  {
   "cell_type": "markdown",
   "metadata": {},
   "source": [
    "### Step 1: Setup your NYC Open Data variables (ACTION REQUIRED HERE)"
   ]
  },
  {
   "cell_type": "code",
   "execution_count": 2,
   "metadata": {},
   "outputs": [],
   "source": [
    "# import libraries\n",
    "import pandas as pd\n",
    "import numpy as np\n",
    "from sodapy import Socrata"
   ]
  },
  {
   "cell_type": "code",
   "execution_count": 3,
   "metadata": {},
   "outputs": [],
   "source": [
    "# setup the host name for the API endpoint (the https:// part will be added automatically)\n",
    "# only need to change this if you are not using NYC Open Data\n",
    "data_url = 'data.cityofnewyork.us'"
   ]
  },
  {
   "cell_type": "code",
   "execution_count": 4,
   "metadata": {},
   "outputs": [],
   "source": [
    "# setup the data set at the API endpoint (311 data in this case)\n",
    "# https://data.cityofnewyork.us/resource/8wbx-tsch.json\n",
    "# would give us '8wbx-tsch'\n",
    "data_set = 'buk3-3qpr'"
   ]
  },
  {
   "cell_type": "code",
   "execution_count": 5,
   "metadata": {},
   "outputs": [],
   "source": [
    "# Setup your App Token, which you created in Week 6\n",
    "# You can find your app token by logging into: https://data.cityofnewyork.us/profile/edit/developer_settings\n",
    "\n",
    "#app_token = 'YOUR APP TOKEN HERE'\n",
    "app_token = ''"
   ]
  },
  {
   "cell_type": "code",
   "execution_count": 6,
   "metadata": {},
   "outputs": [
    {
     "name": "stdout",
     "output_type": "stream",
     "text": [
      "nyc open data client name is: <sodapy.socrata.Socrata object at 0x7fa1bbf36910>\n",
      "nyc open data client data type is: <class 'sodapy.socrata.Socrata'>\n"
     ]
    }
   ],
   "source": [
    "# run this cell to setup your Socrata client that connects python to NYC Open Data\n",
    "\n",
    "# create the client that points to the API endpoint\n",
    "nyc_open_data_client = Socrata(data_url, app_token, timeout = 200)\n",
    "print(f\"nyc open data client name is: {nyc_open_data_client}\")\n",
    "print(f\"nyc open data client data type is: {type(nyc_open_data_client)}\")"
   ]
  },
  {
   "cell_type": "markdown",
   "metadata": {},
   "source": [
    "### Step 3: Extract data"
   ]
  },
  {
   "cell_type": "markdown",
   "metadata": {},
   "source": [
    "1. connect to NYC Open Data with API Key\n",
    "2. pull specific dataset as a pandas dataframe\n",
    "3. Look at shape of extracted data"
   ]
  },
  {
   "cell_type": "markdown",
   "metadata": {},
   "source": [
    "#### sodapy client.get parameters\n",
    "1. select\n",
    "2. where\n",
    "3. order\n",
    "4. limit\n",
    "5. group"
   ]
  },
  {
   "cell_type": "code",
   "execution_count": 7,
   "metadata": {},
   "outputs": [
    {
     "name": "stdout",
     "output_type": "stream",
     "text": [
      "total records in buk3-3qpr: [{'COUNT': '6310'}]\n"
     ]
    }
   ],
   "source": [
    "# Get the total number of records in our the entire data set\n",
    "total_record_count = nyc_open_data_client.get(data_set, select = \"COUNT(*)\")\n",
    "print(f\"total records in {data_set}: {total_record_count}\")"
   ]
  },
  {
   "cell_type": "code",
   "execution_count": 8,
   "metadata": {},
   "outputs": [
    {
     "name": "stdout",
     "output_type": "stream",
     "text": [
      "function took 8.5 seconds\n",
      "the shape of your dataframe is: (6310, 24)\n"
     ]
    }
   ],
   "source": [
    "# Now, loop through target data set to pull all rows in chunks (we cannot pull all rows at once)\n",
    "# AGAIN, UPDATE WHERE FILTER INSIDE BELOW FUNCTION\n",
    "\n",
    "def extract_socrata_data(total_records: int,\n",
    "                         chunk_size: int,\n",
    "                         data_set = data_set):\n",
    "    \n",
    "    # measure time this function takes\n",
    "    import time\n",
    "    start_time = time.time()\n",
    "\n",
    "    start = 0                   # start at 0\n",
    "    results = []                # empty list for results\n",
    "    record_count = total_records\n",
    "\n",
    "    while True:\n",
    "\n",
    "        # fetch the set of records starting at 'start'\n",
    "        results.extend(nyc_open_data_client.get(data_set,\n",
    "                                                offset = start,\n",
    "                                                limit = chunk_size))\n",
    "\n",
    "        # update the starting record number\n",
    "        start = start + chunk_size\n",
    "\n",
    "        # if we have fetched all of the records (we have reached record_count), exit loop\n",
    "        if (start > record_count):\n",
    "            break\n",
    "\n",
    "    # convert the list into a pandas data frame\n",
    "    data = pd.DataFrame.from_records(results)\n",
    "\n",
    "    end_time = time.time()\n",
    "    print(f\"function took {round(end_time - start_time, 1)} seconds\")\n",
    "\n",
    "    print(f\"the shape of your dataframe is: {data.shape}\")\n",
    "    return data\n",
    "\n",
    "data = extract_socrata_data(total_records = 6308,\n",
    "                            chunk_size = 2000,\n",
    "                            data_set = data_set)"
   ]
  },
  {
   "cell_type": "markdown",
   "metadata": {},
   "source": [
    "### Step 4: Data Profiling"
   ]
  },
  {
   "cell_type": "markdown",
   "metadata": {},
   "source": [
    "1. Distinct values per column\n",
    "2. Null values per column\n",
    "3. Summary statistics per numeric column"
   ]
  },
  {
   "cell_type": "code",
   "execution_count": 9,
   "metadata": {},
   "outputs": [
    {
     "data": {
      "text/plain": [
       "Index(['propnum', 'prop_id', 'boro', 'ampsdistrict', 'prop_name', 'site_name',\n",
       "       'prop_location', 'site_location', 'acres', 'category', 'sub_category',\n",
       "       'rated', 'council_district', 'zipcode', 'communityboard',\n",
       "       'jurisdiction', 'nysassembly', 'nyssenate', 'uscongress', 'precinct',\n",
       "       'comfortstation', 'multipolygon', 'sourcefc', 'reason_not_rated'],\n",
       "      dtype='object')"
      ]
     },
     "execution_count": 9,
     "metadata": {},
     "output_type": "execute_result"
    }
   ],
   "source": [
    "# what are the columns in our dataframe?\n",
    "data.columns"
   ]
  },
  {
   "cell_type": "code",
   "execution_count": 10,
   "metadata": {},
   "outputs": [
    {
     "data": {
      "text/html": [
       "<div>\n",
       "<style scoped>\n",
       "    .dataframe tbody tr th:only-of-type {\n",
       "        vertical-align: middle;\n",
       "    }\n",
       "\n",
       "    .dataframe tbody tr th {\n",
       "        vertical-align: top;\n",
       "    }\n",
       "\n",
       "    .dataframe thead th {\n",
       "        text-align: right;\n",
       "    }\n",
       "</style>\n",
       "<table border=\"1\" class=\"dataframe\">\n",
       "  <thead>\n",
       "    <tr style=\"text-align: right;\">\n",
       "      <th></th>\n",
       "      <th>site_name</th>\n",
       "      <th>site_location</th>\n",
       "      <th>category</th>\n",
       "      <th>acres</th>\n",
       "    </tr>\n",
       "  </thead>\n",
       "  <tbody>\n",
       "    <tr>\n",
       "      <th>4973</th>\n",
       "      <td>Pelham-Bay Circles, Drives &amp; Medians</td>\n",
       "      <td>(e) Eastchester Bay To (nw) Pelham Bridge</td>\n",
       "      <td>Large Park</td>\n",
       "      <td>97.57399750</td>\n",
       "    </tr>\n",
       "    <tr>\n",
       "      <th>6165</th>\n",
       "      <td>NE Forest</td>\n",
       "      <td>East 233 St. To Major Deegan Expwy</td>\n",
       "      <td>Large Park</td>\n",
       "      <td>97.09400177</td>\n",
       "    </tr>\n",
       "    <tr>\n",
       "      <th>4690</th>\n",
       "      <td>Northwest Latourette</td>\n",
       "      <td>Rockland Ave &amp; Forest Hill Rd - North Of Buck'...</td>\n",
       "      <td>Large Park</td>\n",
       "      <td>96.90499878</td>\n",
       "    </tr>\n",
       "    <tr>\n",
       "      <th>4668</th>\n",
       "      <td>Central LaTourette</td>\n",
       "      <td>Rockland Ave &amp; Forest Hill Rd - North Of Buck'...</td>\n",
       "      <td>Large Park</td>\n",
       "      <td>96.90499878</td>\n",
       "    </tr>\n",
       "    <tr>\n",
       "      <th>4667</th>\n",
       "      <td>Southeast LaTourette</td>\n",
       "      <td>Rockland Ave &amp; Forest Hill Rd - North Of Buck'...</td>\n",
       "      <td>Large Park</td>\n",
       "      <td>96.90499878</td>\n",
       "    </tr>\n",
       "    <tr>\n",
       "      <th>1846</th>\n",
       "      <td>Forest Park Golf Course</td>\n",
       "      <td>Forest Park Dr n/o Oak Ridge</td>\n",
       "      <td>Other</td>\n",
       "      <td>96.19999695</td>\n",
       "    </tr>\n",
       "    <tr>\n",
       "      <th>4651</th>\n",
       "      <td>High Rock Park</td>\n",
       "      <td>Richmond Pkwy., Manor Rd., Summit Ave., Rockla...</td>\n",
       "      <td>Large Park</td>\n",
       "      <td>94.09999847</td>\n",
       "    </tr>\n",
       "    <tr>\n",
       "      <th>6175</th>\n",
       "      <td>Mosholu Golf Course</td>\n",
       "      <td>Jerome Ave To Mosholu Prkwy</td>\n",
       "      <td>Large Park</td>\n",
       "      <td>93.55999756</td>\n",
       "    </tr>\n",
       "    <tr>\n",
       "      <th>4743</th>\n",
       "      <td>Silver Lake Golf Course</td>\n",
       "      <td>Victory Blvd, Clove Rd, Forest Ave</td>\n",
       "      <td>Other</td>\n",
       "      <td>93.29399872</td>\n",
       "    </tr>\n",
       "    <tr>\n",
       "      <th>4755</th>\n",
       "      <td>Freshkills Park</td>\n",
       "      <td>Victory Blvd,Signs Rd,Travis Ave,Arthur Kill Rd</td>\n",
       "      <td>Large Park</td>\n",
       "      <td>920.42602539</td>\n",
       "    </tr>\n",
       "    <tr>\n",
       "      <th>4787</th>\n",
       "      <td>Long Pond Park</td>\n",
       "      <td>Page Ave., Hylan Blvd., and Amboy Rd.</td>\n",
       "      <td>Large Park</td>\n",
       "      <td>91.08599854</td>\n",
       "    </tr>\n",
       "    <tr>\n",
       "      <th>3249</th>\n",
       "      <td>College Point Blvd Soccer Fields</td>\n",
       "      <td>(w) Van Wyck Expwy To (e&amp;s)College Point Blvd ...</td>\n",
       "      <td>Large Park</td>\n",
       "      <td>9.98999977</td>\n",
       "    </tr>\n",
       "    <tr>\n",
       "      <th>416</th>\n",
       "      <td>Central Park West</td>\n",
       "      <td>West Drive, CPW, 65 St Transverse</td>\n",
       "      <td>Large Park</td>\n",
       "      <td>9.97599983</td>\n",
       "    </tr>\n",
       "    <tr>\n",
       "      <th>4558</th>\n",
       "      <td>Heritage Park</td>\n",
       "      <td>Richmond Ter. at Tompkins Ct., Kill Van Kull</td>\n",
       "      <td>Small Park</td>\n",
       "      <td>9.93400002</td>\n",
       "    </tr>\n",
       "    <tr>\n",
       "      <th>187</th>\n",
       "      <td>Grand Army Plaza</td>\n",
       "      <td>Plaza St. E, Plaza St. W, Main Entrance</td>\n",
       "      <td>Large Park</td>\n",
       "      <td>9.76799965</td>\n",
       "    </tr>\n",
       "    <tr>\n",
       "      <th>4589</th>\n",
       "      <td>Hybrid Oak Woods Park</td>\n",
       "      <td>Joline Ave. bet. Hylan Blvd. to Surf Ave.</td>\n",
       "      <td>Small Park</td>\n",
       "      <td>9.76299953</td>\n",
       "    </tr>\n",
       "    <tr>\n",
       "      <th>1665</th>\n",
       "      <td>Washington Square Park</td>\n",
       "      <td>5 Ave, Waverly Pl., W. 4 St. and Macdougal St.</td>\n",
       "      <td>Large Park</td>\n",
       "      <td>9.74899960</td>\n",
       "    </tr>\n",
       "    <tr>\n",
       "      <th>6192</th>\n",
       "      <td>V. C. Mansion, Tennis Courts, Mem. Grove</td>\n",
       "      <td>Broadway To Tennis Courts To Nature Trails</td>\n",
       "      <td>Large Park</td>\n",
       "      <td>9.74600029</td>\n",
       "    </tr>\n",
       "    <tr>\n",
       "      <th>54</th>\n",
       "      <td>Coney Island Beach Zone 5a</td>\n",
       "      <td>W 10th St To Stillwell Ave</td>\n",
       "      <td>Large Park</td>\n",
       "      <td>9.72999954</td>\n",
       "    </tr>\n",
       "    <tr>\n",
       "      <th>1790</th>\n",
       "      <td>Fort Tryon Park Zone 1</td>\n",
       "      <td>Park Drive Including Café Lawn, Corbin Circle,...</td>\n",
       "      <td>Large Park</td>\n",
       "      <td>9.70499992</td>\n",
       "    </tr>\n",
       "  </tbody>\n",
       "</table>\n",
       "</div>"
      ],
      "text/plain": [
       "                                     site_name  \\\n",
       "4973      Pelham-Bay Circles, Drives & Medians   \n",
       "6165                                 NE Forest   \n",
       "4690                      Northwest Latourette   \n",
       "4668                        Central LaTourette   \n",
       "4667                      Southeast LaTourette   \n",
       "1846                   Forest Park Golf Course   \n",
       "4651                            High Rock Park   \n",
       "6175                       Mosholu Golf Course   \n",
       "4743                   Silver Lake Golf Course   \n",
       "4755                           Freshkills Park   \n",
       "4787                            Long Pond Park   \n",
       "3249          College Point Blvd Soccer Fields   \n",
       "416                          Central Park West   \n",
       "4558                             Heritage Park   \n",
       "187                           Grand Army Plaza   \n",
       "4589                     Hybrid Oak Woods Park   \n",
       "1665                    Washington Square Park   \n",
       "6192  V. C. Mansion, Tennis Courts, Mem. Grove   \n",
       "54                  Coney Island Beach Zone 5a   \n",
       "1790                    Fort Tryon Park Zone 1   \n",
       "\n",
       "                                          site_location    category  \\\n",
       "4973          (e) Eastchester Bay To (nw) Pelham Bridge  Large Park   \n",
       "6165                 East 233 St. To Major Deegan Expwy  Large Park   \n",
       "4690  Rockland Ave & Forest Hill Rd - North Of Buck'...  Large Park   \n",
       "4668  Rockland Ave & Forest Hill Rd - North Of Buck'...  Large Park   \n",
       "4667  Rockland Ave & Forest Hill Rd - North Of Buck'...  Large Park   \n",
       "1846                       Forest Park Dr n/o Oak Ridge       Other   \n",
       "4651  Richmond Pkwy., Manor Rd., Summit Ave., Rockla...  Large Park   \n",
       "6175                        Jerome Ave To Mosholu Prkwy  Large Park   \n",
       "4743                 Victory Blvd, Clove Rd, Forest Ave       Other   \n",
       "4755    Victory Blvd,Signs Rd,Travis Ave,Arthur Kill Rd  Large Park   \n",
       "4787              Page Ave., Hylan Blvd., and Amboy Rd.  Large Park   \n",
       "3249  (w) Van Wyck Expwy To (e&s)College Point Blvd ...  Large Park   \n",
       "416                   West Drive, CPW, 65 St Transverse  Large Park   \n",
       "4558       Richmond Ter. at Tompkins Ct., Kill Van Kull  Small Park   \n",
       "187             Plaza St. E, Plaza St. W, Main Entrance  Large Park   \n",
       "4589          Joline Ave. bet. Hylan Blvd. to Surf Ave.  Small Park   \n",
       "1665     5 Ave, Waverly Pl., W. 4 St. and Macdougal St.  Large Park   \n",
       "6192         Broadway To Tennis Courts To Nature Trails  Large Park   \n",
       "54                           W 10th St To Stillwell Ave  Large Park   \n",
       "1790  Park Drive Including Café Lawn, Corbin Circle,...  Large Park   \n",
       "\n",
       "             acres  \n",
       "4973   97.57399750  \n",
       "6165   97.09400177  \n",
       "4690   96.90499878  \n",
       "4668   96.90499878  \n",
       "4667   96.90499878  \n",
       "1846   96.19999695  \n",
       "4651   94.09999847  \n",
       "6175   93.55999756  \n",
       "4743   93.29399872  \n",
       "4755  920.42602539  \n",
       "4787   91.08599854  \n",
       "3249    9.98999977  \n",
       "416     9.97599983  \n",
       "4558    9.93400002  \n",
       "187     9.76799965  \n",
       "4589    9.76299953  \n",
       "1665    9.74899960  \n",
       "6192    9.74600029  \n",
       "54      9.72999954  \n",
       "1790    9.70499992  "
      ]
     },
     "execution_count": 10,
     "metadata": {},
     "output_type": "execute_result"
    }
   ],
   "source": [
    "data[[\"site_name\", \"site_location\", \"category\", \"acres\"]].sort_values(by = \"acres\",\n",
    "                                                                     ascending = False).head(20)"
   ]
  }
 ],
 "metadata": {
  "kernelspec": {
   "display_name": "Python 3 (ipykernel)",
   "language": "python",
   "name": "python3"
  },
  "language_info": {
   "codemirror_mode": {
    "name": "ipython",
    "version": 3
   },
   "file_extension": ".py",
   "mimetype": "text/x-python",
   "name": "python",
   "nbconvert_exporter": "python",
   "pygments_lexer": "ipython3",
   "version": "3.9.12"
  }
 },
 "nbformat": 4,
 "nbformat_minor": 2
}
