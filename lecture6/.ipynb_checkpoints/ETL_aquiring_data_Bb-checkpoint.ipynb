{
 "cells": [
  {
   "cell_type": "markdown",
   "metadata": {},
   "source": [
    "# ETL Pipeline (first steps)\n",
    "---"
   ]
  },
  {
   "cell_type": "markdown",
   "metadata": {},
   "source": [
    "### Step 0: Install the required python packages"
   ]
  },
  {
   "cell_type": "code",
   "execution_count": null,
   "metadata": {},
   "outputs": [],
   "source": [
    "pip install --upgrade sodapy"
   ]
  },
  {
   "cell_type": "markdown",
   "metadata": {},
   "source": [
    "#### Now, on the top of your Notebook select \"Kernel\" -> \"Restart and Clear Output\"\n",
    "Then, continue from the next cell"
   ]
  },
  {
   "cell_type": "markdown",
   "metadata": {},
   "source": [
    "### Step 1: Setup your NYC Open Data variables (ACTION REQUIRED HERE)"
   ]
  },
  {
   "cell_type": "code",
   "execution_count": null,
   "metadata": {},
   "outputs": [],
   "source": [
    "# import libraries\n",
    "import pandas as pd\n",
    "import numpy as np\n",
    "from sodapy import Socrata"
   ]
  },
  {
   "cell_type": "code",
   "execution_count": null,
   "metadata": {},
   "outputs": [],
   "source": [
    "# setup the host name for the API endpoint (the https:// part will be added automatically)\n",
    "# only need to change this if you are not using NYC Open Data\n",
    "data_url = 'data.cityofnewyork.us'"
   ]
  },
  {
   "cell_type": "code",
   "execution_count": null,
   "metadata": {},
   "outputs": [],
   "source": [
    "# setup the data set at the API endpoint (311 data in this case)\n",
    "# https://data.cityofnewyork.us/resource/8wbx-tsch.json\n",
    "# would give us '8wbx-tsch'\n",
    "data_set = 'buk3-3qpr'"
   ]
  },
  {
   "cell_type": "code",
   "execution_count": null,
   "metadata": {},
   "outputs": [],
   "source": [
    "# Setup your App Token, which you created in Week 6\n",
    "# You can find your app token by logging into: https://data.cityofnewyork.us/profile/edit/developer_settings\n",
    "app_token = 'YOUR APP TOKEN HERE'"
   ]
  },
  {
   "cell_type": "code",
   "execution_count": null,
   "metadata": {},
   "outputs": [],
   "source": [
    "# run this cell to setup your Socrata client that connects python to NYC Open Data\n",
    "\n",
    "# create the client that points to the API endpoint\n",
    "nyc_open_data_client = Socrata(data_url, app_token, timeout = 200)\n",
    "print(f\"nyc open data client name is: {nyc_open_data_client}\")\n",
    "print(f\"nyc open data client data type is: {type(nyc_open_data_client)}\")"
   ]
  },
  {
   "cell_type": "markdown",
   "metadata": {},
   "source": [
    "### Step 3: Extract data"
   ]
  },
  {
   "cell_type": "markdown",
   "metadata": {},
   "source": [
    "1. connect to NYC Open Data with API Key\n",
    "2. pull specific dataset as a pandas dataframe\n",
    "3. Look at shape of extracted data"
   ]
  },
  {
   "cell_type": "markdown",
   "metadata": {},
   "source": [
    "#### sodapy client.get parameters\n",
    "1. select\n",
    "2. where\n",
    "3. order\n",
    "4. limit\n",
    "5. group"
   ]
  },
  {
   "cell_type": "code",
   "execution_count": null,
   "metadata": {},
   "outputs": [],
   "source": [
    "# Get the total number of records in our the entire data set\n",
    "total_record_count = nyc_open_data_client.get(data_set, select = \"COUNT(*)\")\n",
    "print(f\"total records in {data_set}: {total_record_count}\")"
   ]
  },
  {
   "cell_type": "code",
   "execution_count": null,
   "metadata": {},
   "outputs": [],
   "source": [
    "# Now, loop through target data set to pull all rows in chunks (we cannot pull all rows at once)\n",
    "# AGAIN, UPDATE WHERE FILTER INSIDE BELOW FUNCTION\n",
    "\n",
    "def extract_socrata_data(total_records: int,\n",
    "                         chunk_size: int,\n",
    "                         data_set = data_set):\n",
    "    \n",
    "    # measure time this function takes\n",
    "    import time\n",
    "    start_time = time.time()\n",
    "\n",
    "    start = 0                   # start at 0\n",
    "    results = []                # empty list for results\n",
    "    record_count = total_records\n",
    "\n",
    "    while True:\n",
    "\n",
    "        # fetch the set of records starting at 'start'\n",
    "        results.extend(nyc_open_data_client.get(data_set,\n",
    "                                                offset = start,\n",
    "                                                limit = chunk_size))\n",
    "\n",
    "        # update the starting record number\n",
    "        start = start + chunk_size\n",
    "\n",
    "        # if we have fetched all of the records (we have reached record_count), exit loop\n",
    "        if (start > record_count):\n",
    "            break\n",
    "\n",
    "    # convert the list into a pandas data frame\n",
    "    data = pd.DataFrame.from_records(results)\n",
    "\n",
    "    end_time = time.time()\n",
    "    print(f\"function took {round(end_time - start_time, 1)} seconds\")\n",
    "\n",
    "    print(f\"the shape of your dataframe is: {data.shape}\")\n",
    "    return data\n",
    "\n",
    "data = extract_socrate_data(total_records = 6308,\n",
    "                            chunk_size = 2000,\n",
    "                            data_set = data_set)"
   ]
  },
  {
   "cell_type": "markdown",
   "metadata": {},
   "source": [
    "### Step 4: Data Profiling"
   ]
  },
  {
   "cell_type": "markdown",
   "metadata": {},
   "source": [
    "1. Distinct values per column\n",
    "2. Null values per column\n",
    "3. Summary statistics per numeric column"
   ]
  },
  {
   "cell_type": "code",
   "execution_count": null,
   "metadata": {},
   "outputs": [],
   "source": [
    "# what are the columns in our dataframe?\n",
    "data.columns"
   ]
  },
  {
   "cell_type": "code",
   "execution_count": null,
   "metadata": {},
   "outputs": [],
   "source": [
    "data[[\"site_name\", \"site_location\", \"category\", \"acres\"]].sort_values(by = \"acres\",\n",
    "                                                                     ascending = False).head(20)"
   ]
  }
 ],
 "metadata": {
  "kernelspec": {
   "display_name": "Python 3 (ipykernel)",
   "language": "python",
   "name": "python3"
  },
  "language_info": {
   "codemirror_mode": {
    "name": "ipython",
    "version": 3
   },
   "file_extension": ".py",
   "mimetype": "text/x-python",
   "name": "python",
   "nbconvert_exporter": "python",
   "pygments_lexer": "ipython3",
   "version": "3.9.13"
  }
 },
 "nbformat": 4,
 "nbformat_minor": 2
}
