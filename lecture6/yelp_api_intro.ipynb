{
 "cells": [
  {
   "cell_type": "markdown",
   "metadata": {},
   "source": [
    "# CIS 9440: Yelp API Intro\n",
    "---\n",
    "10/12/22"
   ]
  },
  {
   "cell_type": "code",
   "execution_count": null,
   "metadata": {},
   "outputs": [],
   "source": [
    "pip install yelp"
   ]
  },
  {
   "cell_type": "code",
   "execution_count": null,
   "metadata": {},
   "outputs": [],
   "source": [
    "from yelp.client import Client\n",
    "\n",
    "# find your API key at: https://fusion.yelp.com/ then click \"Manage API Key\"\n",
    "MY_API_KEY = \"YOUR API KEY HERE\"\n",
    "\n",
    "client = Client(MY_API_KEY)"
   ]
  },
  {
   "cell_type": "code",
   "execution_count": null,
   "metadata": {},
   "outputs": [],
   "source": [
    "url = 'https://api.yelp.com/v3/businesses/search'\n",
    "\n",
    "# term examples: \"pizza\"\n",
    "# \"italian\"\n",
    "# \"salad\"\n",
    "term = 'coffee'\n",
    "\n",
    "# location examples: \"New York City\",\n",
    "# \"NYC\",\n",
    "# \"350 5th Ave, New York, NY 10118\"\n",
    "location = '55 Lexington Ave, New York, NY 10010'\n",
    "\n",
    "# Optional. Number of business results to return.\n",
    "# By default, it will return 20.\n",
    "# Maximum is 50.\n",
    "SEARCH_LIMIT = 15\n",
    "\n",
    "# Optional. A suggested search radius in meters.\n",
    "# The max value is 40000 meters (about 25 miles).\n",
    "radius = 800 # half mile"
   ]
  },
  {
   "cell_type": "code",
   "execution_count": null,
   "metadata": {},
   "outputs": [],
   "source": [
    "url_params = {\n",
    "                'term': term.replace(' ', '+'),\n",
    "                'location': location.replace(' ', '+'),\n",
    "                'limit': SEARCH_LIMIT,\n",
    "                'radius': radius\n",
    "            }\n",
    "\n",
    "print(url_params)"
   ]
  },
  {
   "cell_type": "code",
   "execution_count": null,
   "metadata": {},
   "outputs": [],
   "source": [
    "# A request header is an HTTP header that can be used in an HTTP request\n",
    "# to provide information about the request context,\n",
    "# so that the server can tailor the response\n",
    "headers = {\"Authorization\": f\"Bearer {MY_API_KEY}\"}\n",
    "headers"
   ]
  },
  {
   "cell_type": "code",
   "execution_count": null,
   "metadata": {},
   "outputs": [],
   "source": [
    "import requests\n",
    "\n",
    "# make the request to Yelp, get a response\n",
    "response = requests.get(url, headers=headers, params=url_params)\n",
    "print(response)\n",
    "print(type(response.text))\n",
    "print(response.text[:500])"
   ]
  },
  {
   "cell_type": "code",
   "execution_count": null,
   "metadata": {},
   "outputs": [],
   "source": [
    "import pandas as pd\n",
    "\n",
    "# turn your Yelp json response into a pandas dataframe\n",
    "df = pd.DataFrame.from_dict(response.json()['businesses'])\n",
    "print(f\"shape of your dataframe: {df.shape}\")"
   ]
  },
  {
   "cell_type": "code",
   "execution_count": null,
   "metadata": {},
   "outputs": [],
   "source": [
    "# subset the columns in your dataframe\n",
    "df = df[[\"name\", \"review_count\",\n",
    "         \"rating\", \"price\",\n",
    "         \"distance\", \"location\"]]\n",
    "\n",
    "df.head(3)"
   ]
  },
  {
   "cell_type": "code",
   "execution_count": null,
   "metadata": {},
   "outputs": [],
   "source": [
    "# split your location column into multiple columns\n",
    "df[\"street\"] = [d.get('address1') for d in df['location']]\n",
    "df[\"city\"] = [d.get('city') for d in df['location']]\n",
    "df[\"state\"] = [d.get('state') for d in df['location']]\n",
    "df[\"country\"] = [d.get('country') for d in df['location']]\n",
    "\n",
    "# drop the location column\n",
    "df = df.drop(['location'], axis=1)"
   ]
  },
  {
   "cell_type": "code",
   "execution_count": null,
   "metadata": {},
   "outputs": [],
   "source": [
    "# set your dataframe index\n",
    "df = df.set_index(\"name\")\n",
    "\n",
    "# sort your dataframe\n",
    "df = df.sort_values(by = [\"rating\", \"review_count\"],\n",
    "                    ascending = [False, False])\n",
    "\n",
    "# view your dataframe\n",
    "df"
   ]
  }
 ],
 "metadata": {
  "kernelspec": {
   "display_name": "Python 3",
   "language": "python",
   "name": "python3"
  },
  "language_info": {
   "codemirror_mode": {
    "name": "ipython",
    "version": 3
   },
   "file_extension": ".py",
   "mimetype": "text/x-python",
   "name": "python",
   "nbconvert_exporter": "python",
   "pygments_lexer": "ipython3",
   "version": "3.7.2"
  }
 },
 "nbformat": 4,
 "nbformat_minor": 2
}
