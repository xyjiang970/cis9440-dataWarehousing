{
 "cells": [
  {
   "cell_type": "markdown",
   "id": "2c4ce000",
   "metadata": {},
   "source": [
    "# HW2: ETL\n",
    "\n",
    "The .csv file from <a href=\"https://drive.google.com/file/d/1adkkH5xlRLj_y78KdITb1sRVuKbsZJc9/view\" target=\"_blank\">this google drive link</a> is needed before we begin the assignment. The dataset was downloaded from gapminder.org"
   ]
  },
  {
   "cell_type": "markdown",
   "id": "af129999",
   "metadata": {},
   "source": [
    "## Instructions\n",
    "\n",
    "For this assignment, you will Extract, Transform, and Load (ETL) the data in the link above into <a href=\"\" target=\"_blank\">the following Dimensional Model</a>"
   ]
  },
  {
   "cell_type": "markdown",
   "id": "2ece9bf4",
   "metadata": {},
   "source": [
    "## Importing Libraries"
   ]
  },
  {
   "cell_type": "code",
   "execution_count": null,
   "id": "8b8fe25f",
   "metadata": {},
   "outputs": [],
   "source": [
    "# import libraries\n",
    "import pandas as pd\n",
    "import numpy as np\n",
    "from sodapy import Socrata\n",
    "from google.cloud import bigquery\n",
    "from google.oauth2 import service_account"
   ]
  },
  {
   "cell_type": "code",
   "execution_count": null,
   "id": "23872cec",
   "metadata": {},
   "outputs": [],
   "source": []
  }
 ],
 "metadata": {
  "kernelspec": {
   "display_name": "Python 3 (ipykernel)",
   "language": "python",
   "name": "python3"
  },
  "language_info": {
   "codemirror_mode": {
    "name": "ipython",
    "version": 3
   },
   "file_extension": ".py",
   "mimetype": "text/x-python",
   "name": "python",
   "nbconvert_exporter": "python",
   "pygments_lexer": "ipython3",
   "version": "3.9.7"
  }
 },
 "nbformat": 4,
 "nbformat_minor": 5
}
