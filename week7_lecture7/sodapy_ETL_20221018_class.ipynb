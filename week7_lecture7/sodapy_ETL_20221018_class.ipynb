{
 "cells": [
  {
   "cell_type": "markdown",
   "metadata": {},
   "source": [
    "# Building an ETL Pipeline\n",
    "---"
   ]
  },
  {
   "cell_type": "markdown",
   "metadata": {},
   "source": [
    "### Step 0: Install the required python packages"
   ]
  },
  {
   "cell_type": "code",
   "execution_count": null,
   "metadata": {},
   "outputs": [],
   "source": [
    "pip install --upgrade sodapy --user"
   ]
  },
  {
   "cell_type": "code",
   "execution_count": null,
   "metadata": {},
   "outputs": [],
   "source": [
    "pip install --upgrade db-dtypes"
   ]
  },
  {
   "cell_type": "code",
   "execution_count": null,
   "metadata": {},
   "outputs": [],
   "source": [
    "pip install --upgrade pyarrow"
   ]
  },
  {
   "cell_type": "code",
   "execution_count": null,
   "metadata": {},
   "outputs": [],
   "source": [
    "pip install --upgrade google-cloud-bigquery"
   ]
  },
  {
   "cell_type": "markdown",
   "metadata": {},
   "source": [
    "#### Now, on the top of your Notebook select \"Kernel\" -> \"Restart and Clear Output\"\n",
    "Then, continue from the next cell"
   ]
  },
  {
   "cell_type": "markdown",
   "metadata": {},
   "source": [
    "### Step 1: Setup your NYC Open Data variables (ACTION REQUIRED HERE)"
   ]
  },
  {
   "cell_type": "code",
   "execution_count": 1,
   "metadata": {},
   "outputs": [],
   "source": [
    "# import libraries\n",
    "import pandas as pd\n",
    "import numpy as np\n",
    "from sodapy import Socrata\n",
    "from google.cloud import bigquery\n",
    "from google.oauth2 import service_account"
   ]
  },
  {
   "cell_type": "code",
   "execution_count": 2,
   "metadata": {},
   "outputs": [],
   "source": [
    "# setup the host name for the API endpoint (the https:// part will be added automatically)\n",
    "# only need to change this if you are not using NYC Open Data\n",
    "data_url = 'data.cityofnewyork.us'"
   ]
  },
  {
   "cell_type": "code",
   "execution_count": 3,
   "metadata": {},
   "outputs": [],
   "source": [
    "# setup the data set at the API endpoint (NYC Ferry Ridership data in this case)\n",
    "# For example: https://data.cityofnewyork.us/resource/t5n6-gx8c.json\n",
    "# would give us 'erm2-nwe9'\n",
    "data_set = 't5n6-gx8c'"
   ]
  },
  {
   "cell_type": "code",
   "execution_count": 4,
   "metadata": {},
   "outputs": [],
   "source": [
    "# Setup your App Token, which you created in Week 6\n",
    "# You can find your app token by logging into: https://data.cityofnewyork.us/profile/edit/developer_settings\n",
    "#app_token = 'your app token here'\n",
    "app_token = ''"
   ]
  },
  {
   "cell_type": "code",
   "execution_count": 5,
   "metadata": {},
   "outputs": [
    {
     "name": "stdout",
     "output_type": "stream",
     "text": [
      "nyc open data client name is: <sodapy.socrata.Socrata object at 0x0000017564B6E280>\n",
      "nyc open data client data type is: <class 'sodapy.socrata.Socrata'>\n"
     ]
    }
   ],
   "source": [
    "# run this cell to setup your Socrata client that connects python to NYC Open Data\n",
    "\n",
    "# create the client that points to the API endpoint\n",
    "nyc_open_data_client = Socrata(data_url, app_token, timeout = 200)\n",
    "print(f\"nyc open data client name is: {nyc_open_data_client}\")\n",
    "print(f\"nyc open data client data type is: {type(nyc_open_data_client)}\")"
   ]
  },
  {
   "cell_type": "markdown",
   "metadata": {},
   "source": [
    "### Step 2: Setup your Google BigQuery variables (ACTION REQUIRED HERE)"
   ]
  },
  {
   "cell_type": "markdown",
   "metadata": {},
   "source": [
    "If you did not create a key path in class on 3/30/22 (which created a json file on your computer), you must create one to continue:\n",
    "1. Open BigQuery\n",
    "2. On the top-left, click on the Navigation Menu\n",
    "3. In the Navigation Menu, go to \"IAM & Admin\" -> \"Sercive Accounts\"\n",
    "4. On the top of the page, click on \"Create Service Account\"\n",
    "5. Account name: cis9440-spring2022\n",
    "6. Click create and continue\n",
    "7. Set Role to Owner\n",
    "8. Click Continue\n",
    "9. Click Done\n",
    "10. In the new row for your Service Account, click on the 3 dots in the \"Action\" column. Select \"Manage Keys\"\n",
    "11. Click \"Add Key\", then \"Create New Key\". Select the \"JSON\" radio button and click \"Create\"\n",
    "12. In the next cell, set key_path to the exact file path of your new JSON file. For example, it will look like r'C:\\Users\\Downloads\\cis9440-324315-70048a5e1138.json'"
   ]
  },
  {
   "cell_type": "code",
   "execution_count": 6,
   "metadata": {},
   "outputs": [],
   "source": [
    "# CHANGE THIS TO YOUR FILE PATH\n",
    "key_path = r'C:\\Users\\xj438\\Desktop\\cis9440-dataWarehousing\\lecture7\\cis9440-361100-642072a7b126.json'"
   ]
  },
  {
   "cell_type": "code",
   "execution_count": 7,
   "metadata": {},
   "outputs": [
    {
     "name": "stdout",
     "output_type": "stream",
     "text": [
      "bigquery client name is: <google.cloud.bigquery.client.Client object at 0x0000017564B6EB50>\n",
      "bigquery client data type is: <class 'google.cloud.bigquery.client.Client'>\n"
     ]
    }
   ],
   "source": [
    "# run this cell without changing anything to setup your credentials\n",
    "credentials = service_account.Credentials.from_service_account_file(key_path,\n",
    "                                                                    scopes=[\"https://www.googleapis.com/auth/cloud-platform\"],)\n",
    "bigquery_client = bigquery.Client(credentials = credentials,\n",
    "                                 project = credentials.project_id)\n",
    "\n",
    "print(f\"bigquery client name is: {bigquery_client}\")\n",
    "print(f\"bigquery client data type is: {type(bigquery_client)}\")"
   ]
  },
  {
   "cell_type": "markdown",
   "metadata": {},
   "source": [
    "Now, you need to create your dataset id:\n",
    "1. Go to bigquery\n",
    "2. Inside the \"Explorer\" window, click on the 3 dots to the right of your cis9440 project called \"View Actions\"\n",
    "3. Select \"Create dataset\"\n",
    "4. Leave the Project ID as it is, name your Dataset ID etl_dataset\n",
    "5. Expand your cis9440 project with the triangle on its left-hand side so you can see your new etl_dataset dataset\n",
    "6. On the right of your etl_dataset, click the 3 dots for \"View Actions\" -> \"Open\"\n",
    "7. You should now see the \"Dataset info\". Copy the entire \"Dataset ID\" and paste it in the variable below"
   ]
  },
  {
   "cell_type": "code",
   "execution_count": 8,
   "metadata": {},
   "outputs": [
    {
     "name": "stdout",
     "output_type": "stream",
     "text": [
      "your dataset_id is: cis9440-361100.etl_dataset\n"
     ]
    }
   ],
   "source": [
    "dataset_id = 'cis9440-361100.etl_dataset'   # PASTE THIS DATASET ID FROM ABOVE STEPS\n",
    "\n",
    "dataset_id = dataset_id.replace(':', '.')\n",
    "print(f\"your dataset_id is: {dataset_id}\")"
   ]
  },
  {
   "cell_type": "markdown",
   "metadata": {},
   "source": [
    "### Step 3: Extract data"
   ]
  },
  {
   "cell_type": "markdown",
   "metadata": {},
   "source": [
    "1. connect to NYC Open Data with API Key\n",
    "2. pull specific dataset as a pandas dataframe\n",
    "3. Look at shape of extracted data"
   ]
  },
  {
   "cell_type": "markdown",
   "metadata": {},
   "source": [
    "#### sodapy client.get parameters\n",
    "1. select\n",
    "2. where\n",
    "3. order\n",
    "4. limit\n",
    "5. group"
   ]
  },
  {
   "cell_type": "code",
   "execution_count": 9,
   "metadata": {},
   "outputs": [
    {
     "name": "stdout",
     "output_type": "stream",
     "text": [
      "total records in t5n6-gx8c: 1525502\n"
     ]
    }
   ],
   "source": [
    "# Get the total number of records in our the entire data set\n",
    "total_record_count = nyc_open_data_client.get(data_set, select = \"COUNT(*)\")\n",
    "print(f\"total records in {data_set}: {total_record_count[0]['COUNT']}\")"
   ]
  },
  {
   "cell_type": "code",
   "execution_count": 10,
   "metadata": {},
   "outputs": [
    {
     "name": "stdout",
     "output_type": "stream",
     "text": [
      "target records in t5n6-gx8c: 61823\n"
     ]
    }
   ],
   "source": [
    "# Get the total number of records in our target data set\n",
    "# UPDATE YOUR WHERE FILTER HERE IF NEEDED, below is only an example\n",
    "target_record_count = nyc_open_data_client.get(data_set,\n",
    "                                               where = \"Date > '2022-05-01'\",\n",
    "                                               select= \"COUNT(*)\")\n",
    "print(f\"target records in {data_set}: {int(target_record_count[0]['COUNT'])}\")"
   ]
  },
  {
   "cell_type": "code",
   "execution_count": 11,
   "metadata": {},
   "outputs": [],
   "source": [
    "# Now, loop through target data set to pull all rows in chunks (we cannot pull all rows at once)\n",
    "# AGAIN, UPDATE WHERE FILTER INSIDE BELOW FUNCTION\n",
    "\n",
    "def extract_socrata_data(chunk_size = 2500,\n",
    "                         data_set = data_set,\n",
    "                         where = None):\n",
    "    \n",
    "    # measure time this function takes\n",
    "    import time\n",
    "    start_time = time.time()\n",
    "    \n",
    "    # get total number or records\n",
    "    if where == None:\n",
    "        total_records = int(nyc_open_data_client.get(data_set,\n",
    "                                                     select= \"COUNT(*)\")[0][\"COUNT\"])\n",
    "    else:\n",
    "        total_records = int(nyc_open_data_client.get(data_set,\n",
    "                                                     where = where,\n",
    "                                                     select= \"COUNT(*)\")[0][\"COUNT\"])\n",
    "    \n",
    "    # start at 0, empty list for results\n",
    "    start = 0                   \n",
    "    results = []                \n",
    "\n",
    "    while True:\n",
    "\n",
    "        if where == None:\n",
    "            # fetch the set of records starting at 'start'\n",
    "            results.extend(nyc_open_data_client.get(data_set,\n",
    "                                                    offset = start,\n",
    "                                                    limit = chunk_size))\n",
    "            \n",
    "        elif where != None:\n",
    "            results.extend(nyc_open_data_client.get(data_set,\n",
    "                                                    where = where,\n",
    "                                                    offset = start,\n",
    "                                                    limit = chunk_size))\n",
    "        # update the starting record number\n",
    "        start = start + chunk_size\n",
    "\n",
    "        # if we have fetched all of the records (we have reached total_records), exit loop\n",
    "        if (start > total_records):\n",
    "            break\n",
    "\n",
    "    # convert the list into a pandas data frame\n",
    "    data = pd.DataFrame.from_records(results)\n",
    "\n",
    "    end_time = time.time()\n",
    "    print(f\"function took {round(end_time - start_time, 1)} seconds\")\n",
    "\n",
    "    print(f\"the shape of your dataframe is: {data.shape}\")\n",
    "    return data"
   ]
  },
  {
   "cell_type": "code",
   "execution_count": 12,
   "metadata": {},
   "outputs": [
    {
     "name": "stdout",
     "output_type": "stream",
     "text": [
      "function took 5.5 seconds\n",
      "the shape of your dataframe is: (61823, 7)\n"
     ]
    }
   ],
   "source": [
    "# CREATE DATAFRAME data HERE\n",
    "\n",
    "data = extract_socrata_data(chunk_size = 2500,\n",
    "                            data_set = data_set,\n",
    "                            where = \"Date > '2022-05-01'\")"
   ]
  },
  {
   "cell_type": "markdown",
   "metadata": {},
   "source": [
    "### Step 4: Data Profiling"
   ]
  },
  {
   "cell_type": "markdown",
   "metadata": {},
   "source": [
    "1. Distinct values per column\n",
    "2. Null values per column\n",
    "3. Summary statistics per numeric column"
   ]
  },
  {
   "cell_type": "code",
   "execution_count": 13,
   "metadata": {},
   "outputs": [
    {
     "data": {
      "text/plain": [
       "Index(['date', 'hour', 'route', 'direction', 'stop', 'boardings', 'typeday'], dtype='object')"
      ]
     },
     "execution_count": 13,
     "metadata": {},
     "output_type": "execute_result"
    }
   ],
   "source": [
    "# what are the columns in our dataframe?\n",
    "data.columns"
   ]
  },
  {
   "cell_type": "code",
   "execution_count": 14,
   "metadata": {},
   "outputs": [],
   "source": [
    "# create and run a function to ceate data profiling dataframe\n",
    "\n",
    "def create_data_profiling_df(data):\n",
    "    \n",
    "    # create an empty dataframe to gather information about each column\n",
    "    data_profiling_df = pd.DataFrame(columns = [\"column_name\",\n",
    "                                                \"column_type\",\n",
    "                                                \"unique_values\",\n",
    "                                                \"duplicate_values\",\n",
    "                                                \"null_values\",\n",
    "                                                \"non_null_values\"])\n",
    "\n",
    "    # loop through each column to add rows to the data_profiling_df dataframe\n",
    "    for column in data.columns:\n",
    "\n",
    "        info_dict = {}\n",
    "\n",
    "        try:\n",
    "            info_dict[\"column_name\"] = column\n",
    "            info_dict[\"column_type\"] = data[column].dtypes\n",
    "            info_dict[\"unique_values\"] = len(data[column].unique())\n",
    "            info_dict[\"duplicate_values\"] = data[column].count() - len(data[column].dropna().unique())\n",
    "            info_dict[\"null_values\"] = data[column].isna().sum()\n",
    "            info_dict[\"non_null_values\"] = data[column].count()\n",
    "\n",
    "        except:\n",
    "            print(f\"unable to read column: {column}, you may want to drop this column\")\n",
    "\n",
    "        data_profiling_df = data_profiling_df.append(info_dict, ignore_index=True)\n",
    "\n",
    "    data_profiling_df.sort_values(by = ['unique_values', \"non_null_values\"],\n",
    "                                  ascending = [False, False],\n",
    "                                  inplace=True)\n",
    "    \n",
    "    return data_profiling_df"
   ]
  },
  {
   "cell_type": "code",
   "execution_count": 15,
   "metadata": {},
   "outputs": [
    {
     "data": {
      "text/html": [
       "<div>\n",
       "<style scoped>\n",
       "    .dataframe tbody tr th:only-of-type {\n",
       "        vertical-align: middle;\n",
       "    }\n",
       "\n",
       "    .dataframe tbody tr th {\n",
       "        vertical-align: top;\n",
       "    }\n",
       "\n",
       "    .dataframe thead th {\n",
       "        text-align: right;\n",
       "    }\n",
       "</style>\n",
       "<table border=\"1\" class=\"dataframe\">\n",
       "  <thead>\n",
       "    <tr style=\"text-align: right;\">\n",
       "      <th></th>\n",
       "      <th>column_name</th>\n",
       "      <th>column_type</th>\n",
       "      <th>unique_values</th>\n",
       "      <th>duplicate_values</th>\n",
       "      <th>null_values</th>\n",
       "      <th>non_null_values</th>\n",
       "    </tr>\n",
       "  </thead>\n",
       "  <tbody>\n",
       "    <tr>\n",
       "      <th>5</th>\n",
       "      <td>boardings</td>\n",
       "      <td>object</td>\n",
       "      <td>379</td>\n",
       "      <td>61443</td>\n",
       "      <td>2</td>\n",
       "      <td>61821</td>\n",
       "    </tr>\n",
       "    <tr>\n",
       "      <th>0</th>\n",
       "      <td>date</td>\n",
       "      <td>object</td>\n",
       "      <td>60</td>\n",
       "      <td>61763</td>\n",
       "      <td>0</td>\n",
       "      <td>61823</td>\n",
       "    </tr>\n",
       "    <tr>\n",
       "      <th>4</th>\n",
       "      <td>stop</td>\n",
       "      <td>object</td>\n",
       "      <td>25</td>\n",
       "      <td>61798</td>\n",
       "      <td>0</td>\n",
       "      <td>61823</td>\n",
       "    </tr>\n",
       "    <tr>\n",
       "      <th>1</th>\n",
       "      <td>hour</td>\n",
       "      <td>object</td>\n",
       "      <td>19</td>\n",
       "      <td>61804</td>\n",
       "      <td>0</td>\n",
       "      <td>61823</td>\n",
       "    </tr>\n",
       "    <tr>\n",
       "      <th>2</th>\n",
       "      <td>route</td>\n",
       "      <td>object</td>\n",
       "      <td>7</td>\n",
       "      <td>61816</td>\n",
       "      <td>0</td>\n",
       "      <td>61823</td>\n",
       "    </tr>\n",
       "    <tr>\n",
       "      <th>3</th>\n",
       "      <td>direction</td>\n",
       "      <td>object</td>\n",
       "      <td>3</td>\n",
       "      <td>61820</td>\n",
       "      <td>0</td>\n",
       "      <td>61823</td>\n",
       "    </tr>\n",
       "    <tr>\n",
       "      <th>6</th>\n",
       "      <td>typeday</td>\n",
       "      <td>object</td>\n",
       "      <td>2</td>\n",
       "      <td>61821</td>\n",
       "      <td>0</td>\n",
       "      <td>61823</td>\n",
       "    </tr>\n",
       "  </tbody>\n",
       "</table>\n",
       "</div>"
      ],
      "text/plain": [
       "  column_name column_type unique_values duplicate_values null_values  \\\n",
       "5   boardings      object           379            61443           2   \n",
       "0        date      object            60            61763           0   \n",
       "4        stop      object            25            61798           0   \n",
       "1        hour      object            19            61804           0   \n",
       "2       route      object             7            61816           0   \n",
       "3   direction      object             3            61820           0   \n",
       "6     typeday      object             2            61821           0   \n",
       "\n",
       "  non_null_values  \n",
       "5           61821  \n",
       "0           61823  \n",
       "4           61823  \n",
       "1           61823  \n",
       "2           61823  \n",
       "3           61823  \n",
       "6           61823  "
      ]
     },
     "execution_count": 15,
     "metadata": {},
     "output_type": "execute_result"
    }
   ],
   "source": [
    "# view your data profiling dataframe\n",
    "# RUN DATA PROFILING FUNCTION HERE\n",
    "# to create data_profiling_df\n",
    "data_profiling_df = create_data_profiling_df(data = data)\n",
    "data_profiling_df"
   ]
  },
  {
   "cell_type": "code",
   "execution_count": 16,
   "metadata": {},
   "outputs": [
    {
     "data": {
      "text/plain": [
       "array(['NB', 'SB', '(blank)'], dtype=object)"
      ]
     },
     "execution_count": 16,
     "metadata": {},
     "output_type": "execute_result"
    }
   ],
   "source": [
    "data[\"direction\"].unique()"
   ]
  },
  {
   "cell_type": "code",
   "execution_count": 17,
   "metadata": {},
   "outputs": [],
   "source": [
    "# ACTION REQUIRED\n",
    "# If any of the above columns were unable to be read by your function, you may want to drop them\n",
    "# To drop a column, update the column name in the line below and run this cell\n",
    "# data.drop([\"column name you would like to drop here\"], axis = 1, inplace = True)\n",
    "\n",
    "data.drop([\"typeday\"], axis = 1, inplace = True)"
   ]
  },
  {
   "cell_type": "code",
   "execution_count": 18,
   "metadata": {},
   "outputs": [
    {
     "data": {
      "text/html": [
       "<div>\n",
       "<style scoped>\n",
       "    .dataframe tbody tr th:only-of-type {\n",
       "        vertical-align: middle;\n",
       "    }\n",
       "\n",
       "    .dataframe tbody tr th {\n",
       "        vertical-align: top;\n",
       "    }\n",
       "\n",
       "    .dataframe thead th {\n",
       "        text-align: right;\n",
       "    }\n",
       "</style>\n",
       "<table border=\"1\" class=\"dataframe\">\n",
       "  <thead>\n",
       "    <tr style=\"text-align: right;\">\n",
       "      <th></th>\n",
       "      <th>date</th>\n",
       "      <th>hour</th>\n",
       "      <th>route</th>\n",
       "      <th>direction</th>\n",
       "      <th>stop</th>\n",
       "      <th>boardings</th>\n",
       "    </tr>\n",
       "  </thead>\n",
       "  <tbody>\n",
       "    <tr>\n",
       "      <th>0</th>\n",
       "      <td>2022-05-02T00:00:00.000</td>\n",
       "      <td>5</td>\n",
       "      <td>RW</td>\n",
       "      <td>NB</td>\n",
       "      <td>Rockaway</td>\n",
       "      <td>14</td>\n",
       "    </tr>\n",
       "    <tr>\n",
       "      <th>1</th>\n",
       "      <td>2022-05-02T00:00:00.000</td>\n",
       "      <td>5</td>\n",
       "      <td>RW</td>\n",
       "      <td>NB</td>\n",
       "      <td>Sunset Park/BAT</td>\n",
       "      <td>4</td>\n",
       "    </tr>\n",
       "    <tr>\n",
       "      <th>2</th>\n",
       "      <td>2022-05-02T00:00:00.000</td>\n",
       "      <td>5</td>\n",
       "      <td>SV</td>\n",
       "      <td>NB</td>\n",
       "      <td>East 34th Street</td>\n",
       "      <td>1</td>\n",
       "    </tr>\n",
       "    <tr>\n",
       "      <th>3</th>\n",
       "      <td>2022-05-02T00:00:00.000</td>\n",
       "      <td>5</td>\n",
       "      <td>SV</td>\n",
       "      <td>NB</td>\n",
       "      <td>Stuyvesant Cove</td>\n",
       "      <td>0</td>\n",
       "    </tr>\n",
       "    <tr>\n",
       "      <th>4</th>\n",
       "      <td>2022-05-02T00:00:00.000</td>\n",
       "      <td>5</td>\n",
       "      <td>SV</td>\n",
       "      <td>NB</td>\n",
       "      <td>Wall St/Pier 11</td>\n",
       "      <td>0</td>\n",
       "    </tr>\n",
       "    <tr>\n",
       "      <th>...</th>\n",
       "      <td>...</td>\n",
       "      <td>...</td>\n",
       "      <td>...</td>\n",
       "      <td>...</td>\n",
       "      <td>...</td>\n",
       "      <td>...</td>\n",
       "    </tr>\n",
       "    <tr>\n",
       "      <th>61818</th>\n",
       "      <td>2022-06-30T00:00:00.000</td>\n",
       "      <td>22</td>\n",
       "      <td>ER</td>\n",
       "      <td>SB</td>\n",
       "      <td>Wall St/Pier 11</td>\n",
       "      <td>0</td>\n",
       "    </tr>\n",
       "    <tr>\n",
       "      <th>61819</th>\n",
       "      <td>2022-06-30T00:00:00.000</td>\n",
       "      <td>22</td>\n",
       "      <td>ER</td>\n",
       "      <td>SB</td>\n",
       "      <td>Dumbo/Fulton Ferry</td>\n",
       "      <td>18</td>\n",
       "    </tr>\n",
       "    <tr>\n",
       "      <th>61820</th>\n",
       "      <td>2022-06-30T00:00:00.000</td>\n",
       "      <td>22</td>\n",
       "      <td>RW</td>\n",
       "      <td>NB</td>\n",
       "      <td>Wall St/Pier 11</td>\n",
       "      <td>0</td>\n",
       "    </tr>\n",
       "    <tr>\n",
       "      <th>61821</th>\n",
       "      <td>2022-06-30T00:00:00.000</td>\n",
       "      <td>22</td>\n",
       "      <td>SG</td>\n",
       "      <td>NB</td>\n",
       "      <td>Midtown West/W 39th St-Pier 79</td>\n",
       "      <td>0</td>\n",
       "    </tr>\n",
       "    <tr>\n",
       "      <th>61822</th>\n",
       "      <td>2022-06-30T00:00:00.000</td>\n",
       "      <td>22</td>\n",
       "      <td>SG</td>\n",
       "      <td>SB</td>\n",
       "      <td>St. George</td>\n",
       "      <td>0</td>\n",
       "    </tr>\n",
       "  </tbody>\n",
       "</table>\n",
       "<p>61823 rows × 6 columns</p>\n",
       "</div>"
      ],
      "text/plain": [
       "                          date hour route direction  \\\n",
       "0      2022-05-02T00:00:00.000    5    RW        NB   \n",
       "1      2022-05-02T00:00:00.000    5    RW        NB   \n",
       "2      2022-05-02T00:00:00.000    5    SV        NB   \n",
       "3      2022-05-02T00:00:00.000    5    SV        NB   \n",
       "4      2022-05-02T00:00:00.000    5    SV        NB   \n",
       "...                        ...  ...   ...       ...   \n",
       "61818  2022-06-30T00:00:00.000   22    ER        SB   \n",
       "61819  2022-06-30T00:00:00.000   22    ER        SB   \n",
       "61820  2022-06-30T00:00:00.000   22    RW        NB   \n",
       "61821  2022-06-30T00:00:00.000   22    SG        NB   \n",
       "61822  2022-06-30T00:00:00.000   22    SG        SB   \n",
       "\n",
       "                                 stop boardings  \n",
       "0                            Rockaway        14  \n",
       "1                     Sunset Park/BAT         4  \n",
       "2                    East 34th Street         1  \n",
       "3                     Stuyvesant Cove         0  \n",
       "4                     Wall St/Pier 11         0  \n",
       "...                               ...       ...  \n",
       "61818                 Wall St/Pier 11         0  \n",
       "61819              Dumbo/Fulton Ferry        18  \n",
       "61820                 Wall St/Pier 11         0  \n",
       "61821  Midtown West/W 39th St-Pier 79         0  \n",
       "61822                      St. George         0  \n",
       "\n",
       "[61823 rows x 6 columns]"
      ]
     },
     "execution_count": 18,
     "metadata": {},
     "output_type": "execute_result"
    }
   ],
   "source": [
    "data"
   ]
  },
  {
   "cell_type": "markdown",
   "metadata": {},
   "source": [
    "### Step 5: Data Cleansing"
   ]
  },
  {
   "cell_type": "markdown",
   "metadata": {},
   "source": [
    "1. drop unneeded columns\n",
    "2. drop duplicate rows\n",
    "3. check for outliers"
   ]
  },
  {
   "cell_type": "code",
   "execution_count": 19,
   "metadata": {},
   "outputs": [
    {
     "name": "stdout",
     "output_type": "stream",
     "text": [
      "<class 'pandas.core.frame.DataFrame'>\n",
      "RangeIndex: 61823 entries, 0 to 61822\n",
      "Data columns (total 6 columns):\n",
      " #   Column     Non-Null Count  Dtype \n",
      "---  ------     --------------  ----- \n",
      " 0   date       61823 non-null  object\n",
      " 1   hour       61823 non-null  object\n",
      " 2   route      61823 non-null  object\n",
      " 3   direction  61823 non-null  object\n",
      " 4   stop       61823 non-null  object\n",
      " 5   boardings  61821 non-null  object\n",
      "dtypes: object(6)\n",
      "memory usage: 2.8+ MB\n"
     ]
    }
   ],
   "source": [
    "# Run this to look at a list of your columns\n",
    "data.info()"
   ]
  },
  {
   "cell_type": "code",
   "execution_count": 20,
   "metadata": {},
   "outputs": [
    {
     "name": "stdout",
     "output_type": "stream",
     "text": [
      "unable to drop drop columns here\n",
      "columns left in dataframe: Index(['date', 'hour', 'route', 'direction', 'stop', 'boardings'], dtype='object')\n"
     ]
    }
   ],
   "source": [
    "# ACTION REQUIRED\n",
    "# edit the drop_columns list below to include all the columns you would like to drop\n",
    "# then, run this cell to drop columns\n",
    "\n",
    "drop_columns = [\"drop columns here\"]\n",
    "\n",
    "for column in drop_columns:\n",
    "    try:\n",
    "        data.drop(column, axis = 1, inplace = True)\n",
    "    except:\n",
    "        print(f\"unable to drop {column}\")\n",
    "\n",
    "print(f\"columns left in dataframe: {data.columns}\")"
   ]
  },
  {
   "cell_type": "code",
   "execution_count": 21,
   "metadata": {},
   "outputs": [
    {
     "name": "stdout",
     "output_type": "stream",
     "text": [
      "number of duplicate rows: 0\n"
     ]
    }
   ],
   "source": [
    "# find number of duplicate rows\n",
    "\n",
    "print(f\"number of duplicate rows: {len(data[data.duplicated()])}\")"
   ]
  },
  {
   "cell_type": "code",
   "execution_count": 22,
   "metadata": {},
   "outputs": [
    {
     "name": "stdout",
     "output_type": "stream",
     "text": [
      "number of rows after duplicates dropped: 61823\n"
     ]
    }
   ],
   "source": [
    "# drop duplicate rows based on entire row\n",
    "data = data.drop_duplicates(keep = 'first')\n",
    "\n",
    "# Or, based on a subset of rows, uncomment below and adjust accordingly\n",
    "## data = data.drop_duplicates(subset = [\"subset column\"], keep = 'first')\n",
    "## data = data.drop_duplicates(subset = [\"subset column 1\", \"subset column 2\"], keep = 'first')\n",
    "\n",
    "print(f\"number of rows after duplicates dropped: {len(data)}\")"
   ]
  },
  {
   "cell_type": "code",
   "execution_count": 23,
   "metadata": {},
   "outputs": [
    {
     "name": "stdout",
     "output_type": "stream",
     "text": [
      "61823\n"
     ]
    }
   ],
   "source": [
    "# drop rows with null values, examples below\n",
    "\n",
    "# .dropna(thresh = 2)\n",
    "# .dropna(subset = [\"route\", \"direction\"], inplace=True)\n",
    "\n",
    "\n",
    "# drop rows with at least 2 null values\n",
    "data.dropna(thresh=2, inplace=True)\n",
    "print(len(data))"
   ]
  },
  {
   "cell_type": "code",
   "execution_count": 24,
   "metadata": {},
   "outputs": [],
   "source": [
    "# example data cleaning, we want numerica values not strings here:\n",
    "data[\"boardings\"] = data[\"boardings\"].astype(float)"
   ]
  },
  {
   "cell_type": "code",
   "execution_count": 25,
   "metadata": {},
   "outputs": [],
   "source": [
    "# example if ferry has a capacity of 344 people\n",
    "ferry_capacity = 344\n",
    "\n",
    "data = data[data[\"boardings\"] <= ferry_capacity]"
   ]
  },
  {
   "cell_type": "markdown",
   "metadata": {},
   "source": [
    "### Step 4: Create Location Dimension"
   ]
  },
  {
   "cell_type": "code",
   "execution_count": 26,
   "metadata": {},
   "outputs": [],
   "source": [
    "# first, copy the entire table\n",
    "location_dim = data.copy()"
   ]
  },
  {
   "cell_type": "code",
   "execution_count": 27,
   "metadata": {},
   "outputs": [
    {
     "data": {
      "text/plain": [
       "Index(['date', 'hour', 'route', 'direction', 'stop', 'boardings'], dtype='object')"
      ]
     },
     "execution_count": 27,
     "metadata": {},
     "output_type": "execute_result"
    }
   ],
   "source": [
    "location_dim.columns"
   ]
  },
  {
   "cell_type": "code",
   "execution_count": 28,
   "metadata": {},
   "outputs": [],
   "source": [
    "# second, subset for only the wanted columns in the dimension\n",
    "location_dim = location_dim[[\"route\",\n",
    "                             \"stop\",\n",
    "                             \"direction\"]]"
   ]
  },
  {
   "cell_type": "code",
   "execution_count": 29,
   "metadata": {},
   "outputs": [
    {
     "data": {
      "text/html": [
       "<div>\n",
       "<style scoped>\n",
       "    .dataframe tbody tr th:only-of-type {\n",
       "        vertical-align: middle;\n",
       "    }\n",
       "\n",
       "    .dataframe tbody tr th {\n",
       "        vertical-align: top;\n",
       "    }\n",
       "\n",
       "    .dataframe thead th {\n",
       "        text-align: right;\n",
       "    }\n",
       "</style>\n",
       "<table border=\"1\" class=\"dataframe\">\n",
       "  <thead>\n",
       "    <tr style=\"text-align: right;\">\n",
       "      <th></th>\n",
       "      <th>route</th>\n",
       "      <th>stop</th>\n",
       "      <th>direction</th>\n",
       "    </tr>\n",
       "  </thead>\n",
       "  <tbody>\n",
       "    <tr>\n",
       "      <th>0</th>\n",
       "      <td>RW</td>\n",
       "      <td>Rockaway</td>\n",
       "      <td>NB</td>\n",
       "    </tr>\n",
       "    <tr>\n",
       "      <th>1</th>\n",
       "      <td>RW</td>\n",
       "      <td>Sunset Park/BAT</td>\n",
       "      <td>NB</td>\n",
       "    </tr>\n",
       "    <tr>\n",
       "      <th>2</th>\n",
       "      <td>SV</td>\n",
       "      <td>East 34th Street</td>\n",
       "      <td>NB</td>\n",
       "    </tr>\n",
       "    <tr>\n",
       "      <th>3</th>\n",
       "      <td>SV</td>\n",
       "      <td>Stuyvesant Cove</td>\n",
       "      <td>NB</td>\n",
       "    </tr>\n",
       "    <tr>\n",
       "      <th>4</th>\n",
       "      <td>SV</td>\n",
       "      <td>Wall St/Pier 11</td>\n",
       "      <td>NB</td>\n",
       "    </tr>\n",
       "    <tr>\n",
       "      <th>...</th>\n",
       "      <td>...</td>\n",
       "      <td>...</td>\n",
       "      <td>...</td>\n",
       "    </tr>\n",
       "    <tr>\n",
       "      <th>72</th>\n",
       "      <td>GI</td>\n",
       "      <td>Gov. Island/Yankee Pier</td>\n",
       "      <td>SB</td>\n",
       "    </tr>\n",
       "    <tr>\n",
       "      <th>73</th>\n",
       "      <td>GI</td>\n",
       "      <td>Wall St/Pier 11</td>\n",
       "      <td>SB</td>\n",
       "    </tr>\n",
       "    <tr>\n",
       "      <th>74</th>\n",
       "      <td>ER</td>\n",
       "      <td>Dumbo/Fulton Ferry</td>\n",
       "      <td>(blank)</td>\n",
       "    </tr>\n",
       "    <tr>\n",
       "      <th>75</th>\n",
       "      <td>AS</td>\n",
       "      <td>Astoria</td>\n",
       "      <td>(blank)</td>\n",
       "    </tr>\n",
       "    <tr>\n",
       "      <th>76</th>\n",
       "      <td>AS</td>\n",
       "      <td>East 34th Street</td>\n",
       "      <td>(blank)</td>\n",
       "    </tr>\n",
       "  </tbody>\n",
       "</table>\n",
       "<p>77 rows × 3 columns</p>\n",
       "</div>"
      ],
      "text/plain": [
       "   route                     stop direction\n",
       "0     RW                 Rockaway        NB\n",
       "1     RW          Sunset Park/BAT        NB\n",
       "2     SV         East 34th Street        NB\n",
       "3     SV          Stuyvesant Cove        NB\n",
       "4     SV          Wall St/Pier 11        NB\n",
       "..   ...                      ...       ...\n",
       "72    GI  Gov. Island/Yankee Pier        SB\n",
       "73    GI          Wall St/Pier 11        SB\n",
       "74    ER       Dumbo/Fulton Ferry   (blank)\n",
       "75    AS                  Astoria   (blank)\n",
       "76    AS         East 34th Street   (blank)\n",
       "\n",
       "[77 rows x 3 columns]"
      ]
     },
     "execution_count": 29,
     "metadata": {},
     "output_type": "execute_result"
    }
   ],
   "source": [
    "# third, drop duplicate rows in dimension\n",
    "# unique_row = [\"unique rows here\"]\n",
    "unique_row = [\"route\", \"stop\",\"direction\"]\n",
    "location_dim = location_dim.drop_duplicates(subset = unique_row, keep = 'first')\n",
    "location_dim = location_dim.reset_index(drop = True)\n",
    "location_dim"
   ]
  },
  {
   "cell_type": "code",
   "execution_count": 30,
   "metadata": {},
   "outputs": [
    {
     "data": {
      "text/html": [
       "<div>\n",
       "<style scoped>\n",
       "    .dataframe tbody tr th:only-of-type {\n",
       "        vertical-align: middle;\n",
       "    }\n",
       "\n",
       "    .dataframe tbody tr th {\n",
       "        vertical-align: top;\n",
       "    }\n",
       "\n",
       "    .dataframe thead th {\n",
       "        text-align: right;\n",
       "    }\n",
       "</style>\n",
       "<table border=\"1\" class=\"dataframe\">\n",
       "  <thead>\n",
       "    <tr style=\"text-align: right;\">\n",
       "      <th></th>\n",
       "      <th>location_id</th>\n",
       "      <th>route</th>\n",
       "      <th>stop</th>\n",
       "      <th>direction</th>\n",
       "    </tr>\n",
       "  </thead>\n",
       "  <tbody>\n",
       "    <tr>\n",
       "      <th>0</th>\n",
       "      <td>1</td>\n",
       "      <td>RW</td>\n",
       "      <td>Rockaway</td>\n",
       "      <td>NB</td>\n",
       "    </tr>\n",
       "    <tr>\n",
       "      <th>1</th>\n",
       "      <td>2</td>\n",
       "      <td>RW</td>\n",
       "      <td>Sunset Park/BAT</td>\n",
       "      <td>NB</td>\n",
       "    </tr>\n",
       "    <tr>\n",
       "      <th>2</th>\n",
       "      <td>3</td>\n",
       "      <td>SV</td>\n",
       "      <td>East 34th Street</td>\n",
       "      <td>NB</td>\n",
       "    </tr>\n",
       "    <tr>\n",
       "      <th>3</th>\n",
       "      <td>4</td>\n",
       "      <td>SV</td>\n",
       "      <td>Stuyvesant Cove</td>\n",
       "      <td>NB</td>\n",
       "    </tr>\n",
       "    <tr>\n",
       "      <th>4</th>\n",
       "      <td>5</td>\n",
       "      <td>SV</td>\n",
       "      <td>Wall St/Pier 11</td>\n",
       "      <td>NB</td>\n",
       "    </tr>\n",
       "    <tr>\n",
       "      <th>...</th>\n",
       "      <td>...</td>\n",
       "      <td>...</td>\n",
       "      <td>...</td>\n",
       "      <td>...</td>\n",
       "    </tr>\n",
       "    <tr>\n",
       "      <th>72</th>\n",
       "      <td>73</td>\n",
       "      <td>GI</td>\n",
       "      <td>Gov. Island/Yankee Pier</td>\n",
       "      <td>SB</td>\n",
       "    </tr>\n",
       "    <tr>\n",
       "      <th>73</th>\n",
       "      <td>74</td>\n",
       "      <td>GI</td>\n",
       "      <td>Wall St/Pier 11</td>\n",
       "      <td>SB</td>\n",
       "    </tr>\n",
       "    <tr>\n",
       "      <th>74</th>\n",
       "      <td>75</td>\n",
       "      <td>ER</td>\n",
       "      <td>Dumbo/Fulton Ferry</td>\n",
       "      <td>(blank)</td>\n",
       "    </tr>\n",
       "    <tr>\n",
       "      <th>75</th>\n",
       "      <td>76</td>\n",
       "      <td>AS</td>\n",
       "      <td>Astoria</td>\n",
       "      <td>(blank)</td>\n",
       "    </tr>\n",
       "    <tr>\n",
       "      <th>76</th>\n",
       "      <td>77</td>\n",
       "      <td>AS</td>\n",
       "      <td>East 34th Street</td>\n",
       "      <td>(blank)</td>\n",
       "    </tr>\n",
       "  </tbody>\n",
       "</table>\n",
       "<p>77 rows × 4 columns</p>\n",
       "</div>"
      ],
      "text/plain": [
       "    location_id route                     stop direction\n",
       "0             1    RW                 Rockaway        NB\n",
       "1             2    RW          Sunset Park/BAT        NB\n",
       "2             3    SV         East 34th Street        NB\n",
       "3             4    SV          Stuyvesant Cove        NB\n",
       "4             5    SV          Wall St/Pier 11        NB\n",
       "..          ...   ...                      ...       ...\n",
       "72           73    GI  Gov. Island/Yankee Pier        SB\n",
       "73           74    GI          Wall St/Pier 11        SB\n",
       "74           75    ER       Dumbo/Fulton Ferry   (blank)\n",
       "75           76    AS                  Astoria   (blank)\n",
       "76           77    AS         East 34th Street   (blank)\n",
       "\n",
       "[77 rows x 4 columns]"
      ]
     },
     "execution_count": 30,
     "metadata": {},
     "output_type": "execute_result"
    }
   ],
   "source": [
    "# fourth, add location_id as a surrogate key\n",
    "location_dim.insert(0, 'location_id', range(1, 1 + len(location_dim)))\n",
    "location_dim"
   ]
  },
  {
   "cell_type": "code",
   "execution_count": 31,
   "metadata": {},
   "outputs": [
    {
     "data": {
      "text/html": [
       "<div>\n",
       "<style scoped>\n",
       "    .dataframe tbody tr th:only-of-type {\n",
       "        vertical-align: middle;\n",
       "    }\n",
       "\n",
       "    .dataframe tbody tr th {\n",
       "        vertical-align: top;\n",
       "    }\n",
       "\n",
       "    .dataframe thead th {\n",
       "        text-align: right;\n",
       "    }\n",
       "</style>\n",
       "<table border=\"1\" class=\"dataframe\">\n",
       "  <thead>\n",
       "    <tr style=\"text-align: right;\">\n",
       "      <th></th>\n",
       "      <th>date</th>\n",
       "      <th>hour</th>\n",
       "      <th>route</th>\n",
       "      <th>direction</th>\n",
       "      <th>stop</th>\n",
       "      <th>boardings</th>\n",
       "      <th>location_id</th>\n",
       "    </tr>\n",
       "  </thead>\n",
       "  <tbody>\n",
       "    <tr>\n",
       "      <th>0</th>\n",
       "      <td>2022-05-02T00:00:00.000</td>\n",
       "      <td>5</td>\n",
       "      <td>RW</td>\n",
       "      <td>NB</td>\n",
       "      <td>Rockaway</td>\n",
       "      <td>14.0</td>\n",
       "      <td>1</td>\n",
       "    </tr>\n",
       "    <tr>\n",
       "      <th>1</th>\n",
       "      <td>2022-05-02T00:00:00.000</td>\n",
       "      <td>5</td>\n",
       "      <td>RW</td>\n",
       "      <td>NB</td>\n",
       "      <td>Sunset Park/BAT</td>\n",
       "      <td>4.0</td>\n",
       "      <td>2</td>\n",
       "    </tr>\n",
       "    <tr>\n",
       "      <th>2</th>\n",
       "      <td>2022-05-02T00:00:00.000</td>\n",
       "      <td>5</td>\n",
       "      <td>SV</td>\n",
       "      <td>NB</td>\n",
       "      <td>East 34th Street</td>\n",
       "      <td>1.0</td>\n",
       "      <td>3</td>\n",
       "    </tr>\n",
       "    <tr>\n",
       "      <th>3</th>\n",
       "      <td>2022-05-02T00:00:00.000</td>\n",
       "      <td>5</td>\n",
       "      <td>SV</td>\n",
       "      <td>NB</td>\n",
       "      <td>Stuyvesant Cove</td>\n",
       "      <td>0.0</td>\n",
       "      <td>4</td>\n",
       "    </tr>\n",
       "    <tr>\n",
       "      <th>4</th>\n",
       "      <td>2022-05-02T00:00:00.000</td>\n",
       "      <td>5</td>\n",
       "      <td>SV</td>\n",
       "      <td>NB</td>\n",
       "      <td>Wall St/Pier 11</td>\n",
       "      <td>0.0</td>\n",
       "      <td>5</td>\n",
       "    </tr>\n",
       "    <tr>\n",
       "      <th>...</th>\n",
       "      <td>...</td>\n",
       "      <td>...</td>\n",
       "      <td>...</td>\n",
       "      <td>...</td>\n",
       "      <td>...</td>\n",
       "      <td>...</td>\n",
       "      <td>...</td>\n",
       "    </tr>\n",
       "    <tr>\n",
       "      <th>95</th>\n",
       "      <td>2022-05-02T00:00:00.000</td>\n",
       "      <td>7</td>\n",
       "      <td>SB</td>\n",
       "      <td>SB</td>\n",
       "      <td>Atlantic Ave/BBP Pier 6</td>\n",
       "      <td>8.0</td>\n",
       "      <td>57</td>\n",
       "    </tr>\n",
       "    <tr>\n",
       "      <th>96</th>\n",
       "      <td>2022-05-02T00:00:00.000</td>\n",
       "      <td>7</td>\n",
       "      <td>SB</td>\n",
       "      <td>SB</td>\n",
       "      <td>Bay Ridge</td>\n",
       "      <td>0.0</td>\n",
       "      <td>58</td>\n",
       "    </tr>\n",
       "    <tr>\n",
       "      <th>97</th>\n",
       "      <td>2022-05-02T00:00:00.000</td>\n",
       "      <td>7</td>\n",
       "      <td>SB</td>\n",
       "      <td>SB</td>\n",
       "      <td>Corlears Hook</td>\n",
       "      <td>2.0</td>\n",
       "      <td>38</td>\n",
       "    </tr>\n",
       "    <tr>\n",
       "      <th>98</th>\n",
       "      <td>2022-05-02T00:00:00.000</td>\n",
       "      <td>7</td>\n",
       "      <td>SB</td>\n",
       "      <td>SB</td>\n",
       "      <td>Gov. Island/Yankee Pier</td>\n",
       "      <td>0.0</td>\n",
       "      <td>59</td>\n",
       "    </tr>\n",
       "    <tr>\n",
       "      <th>99</th>\n",
       "      <td>2022-05-02T00:00:00.000</td>\n",
       "      <td>7</td>\n",
       "      <td>SB</td>\n",
       "      <td>SB</td>\n",
       "      <td>Red Hook/Atlantic Basin</td>\n",
       "      <td>1.0</td>\n",
       "      <td>60</td>\n",
       "    </tr>\n",
       "  </tbody>\n",
       "</table>\n",
       "<p>100 rows × 7 columns</p>\n",
       "</div>"
      ],
      "text/plain": [
       "                       date hour route direction                     stop  \\\n",
       "0   2022-05-02T00:00:00.000    5    RW        NB                 Rockaway   \n",
       "1   2022-05-02T00:00:00.000    5    RW        NB          Sunset Park/BAT   \n",
       "2   2022-05-02T00:00:00.000    5    SV        NB         East 34th Street   \n",
       "3   2022-05-02T00:00:00.000    5    SV        NB          Stuyvesant Cove   \n",
       "4   2022-05-02T00:00:00.000    5    SV        NB          Wall St/Pier 11   \n",
       "..                      ...  ...   ...       ...                      ...   \n",
       "95  2022-05-02T00:00:00.000    7    SB        SB  Atlantic Ave/BBP Pier 6   \n",
       "96  2022-05-02T00:00:00.000    7    SB        SB                Bay Ridge   \n",
       "97  2022-05-02T00:00:00.000    7    SB        SB            Corlears Hook   \n",
       "98  2022-05-02T00:00:00.000    7    SB        SB  Gov. Island/Yankee Pier   \n",
       "99  2022-05-02T00:00:00.000    7    SB        SB  Red Hook/Atlantic Basin   \n",
       "\n",
       "    boardings  location_id  \n",
       "0        14.0            1  \n",
       "1         4.0            2  \n",
       "2         1.0            3  \n",
       "3         0.0            4  \n",
       "4         0.0            5  \n",
       "..        ...          ...  \n",
       "95        8.0           57  \n",
       "96        0.0           58  \n",
       "97        2.0           38  \n",
       "98        0.0           59  \n",
       "99        1.0           60  \n",
       "\n",
       "[100 rows x 7 columns]"
      ]
     },
     "execution_count": 31,
     "metadata": {},
     "output_type": "execute_result"
    }
   ],
   "source": [
    "# fifth, add the location_id to the data table\n",
    "data = data.merge(location_dim,\n",
    "                  left_on = unique_row,\n",
    "                  right_on = unique_row,\n",
    "                  how = 'left')\n",
    "\n",
    "data.head(100)"
   ]
  },
  {
   "cell_type": "markdown",
   "metadata": {},
   "source": [
    "### Step 5: Create Date Dimension"
   ]
  },
  {
   "cell_type": "code",
   "execution_count": 32,
   "metadata": {},
   "outputs": [],
   "source": [
    "data[\"date\"] = pd.to_datetime(data['date'])\n",
    "data[\"date\"]= data[\"date\"].dt.floor('D')"
   ]
  },
  {
   "cell_type": "code",
   "execution_count": 33,
   "metadata": {},
   "outputs": [
    {
     "data": {
      "text/plain": [
       "0       2022-05-02\n",
       "1       2022-05-02\n",
       "2       2022-05-02\n",
       "3       2022-05-02\n",
       "4       2022-05-02\n",
       "           ...    \n",
       "61752   2022-06-30\n",
       "61753   2022-06-30\n",
       "61754   2022-06-30\n",
       "61755   2022-06-30\n",
       "61756   2022-06-30\n",
       "Name: date, Length: 61757, dtype: datetime64[ns]"
      ]
     },
     "execution_count": 33,
     "metadata": {},
     "output_type": "execute_result"
    }
   ],
   "source": [
    "data[\"date\"]"
   ]
  },
  {
   "cell_type": "code",
   "execution_count": 34,
   "metadata": {},
   "outputs": [
    {
     "name": "stdout",
     "output_type": "stream",
     "text": [
      "date dimension created successfully, shape of dimension: (1462, 7)\n"
     ]
    }
   ],
   "source": [
    "## ACTION REQUIRED: update the start and end date at the bottom of the sql_query variable to fit your needs\n",
    "\n",
    "sql_query = \"\"\"\n",
    "            SELECT\n",
    "              CONCAT (FORMAT_DATE(\"%Y\",d),FORMAT_DATE(\"%m\",d),FORMAT_DATE(\"%d\",d)) as date_id,\n",
    "              d AS full_date,\n",
    "              FORMAT_DATE('%w', d) AS week_day,\n",
    "              FORMAT_DATE('%A', d) AS day_name,\n",
    "              FORMAT_DATE('%B', d) as month_name,\n",
    "              FORMAT_DATE('%Q', d) as fiscal_qtr,\n",
    "              FORMAT_DATE('%Y', d) AS year,\n",
    "            FROM (\n",
    "              SELECT\n",
    "                *\n",
    "              FROM\n",
    "                UNNEST(GENERATE_DATE_ARRAY('2020-01-01', '2024-01-01', INTERVAL 1 DAY)) AS d )\n",
    "            \"\"\"\n",
    "\n",
    "# store extracted data in new dataframe\n",
    "date_dim = bigquery_client.query(sql_query).to_dataframe()\n",
    "\n",
    "# validate that > 0 rows have been extracted and return dataframe\n",
    "if len(date_dim) > 0:\n",
    "    print(f\"date dimension created successfully, shape of dimension: {date_dim.shape}\")\n",
    "else:\n",
    "    print(\"date dimension FAILED\")"
   ]
  },
  {
   "cell_type": "code",
   "execution_count": 35,
   "metadata": {},
   "outputs": [],
   "source": [
    "# create date_id column in the Fact Table\n",
    "data['date_id'] = data['date'].apply(lambda x: pd.to_datetime(x).strftime(\"%Y%m%d\"))"
   ]
  },
  {
   "cell_type": "code",
   "execution_count": 36,
   "metadata": {},
   "outputs": [],
   "source": [
    "data.drop(\"date\", axis = 1, inplace = True)"
   ]
  },
  {
   "cell_type": "code",
   "execution_count": 37,
   "metadata": {},
   "outputs": [
    {
     "data": {
      "text/html": [
       "<div>\n",
       "<style scoped>\n",
       "    .dataframe tbody tr th:only-of-type {\n",
       "        vertical-align: middle;\n",
       "    }\n",
       "\n",
       "    .dataframe tbody tr th {\n",
       "        vertical-align: top;\n",
       "    }\n",
       "\n",
       "    .dataframe thead th {\n",
       "        text-align: right;\n",
       "    }\n",
       "</style>\n",
       "<table border=\"1\" class=\"dataframe\">\n",
       "  <thead>\n",
       "    <tr style=\"text-align: right;\">\n",
       "      <th></th>\n",
       "      <th>hour</th>\n",
       "      <th>route</th>\n",
       "      <th>direction</th>\n",
       "      <th>stop</th>\n",
       "      <th>boardings</th>\n",
       "      <th>location_id</th>\n",
       "      <th>date_id</th>\n",
       "    </tr>\n",
       "  </thead>\n",
       "  <tbody>\n",
       "    <tr>\n",
       "      <th>0</th>\n",
       "      <td>5</td>\n",
       "      <td>RW</td>\n",
       "      <td>NB</td>\n",
       "      <td>Rockaway</td>\n",
       "      <td>14.0</td>\n",
       "      <td>1</td>\n",
       "      <td>20220502</td>\n",
       "    </tr>\n",
       "    <tr>\n",
       "      <th>1</th>\n",
       "      <td>5</td>\n",
       "      <td>RW</td>\n",
       "      <td>NB</td>\n",
       "      <td>Sunset Park/BAT</td>\n",
       "      <td>4.0</td>\n",
       "      <td>2</td>\n",
       "      <td>20220502</td>\n",
       "    </tr>\n",
       "    <tr>\n",
       "      <th>2</th>\n",
       "      <td>5</td>\n",
       "      <td>SV</td>\n",
       "      <td>NB</td>\n",
       "      <td>East 34th Street</td>\n",
       "      <td>1.0</td>\n",
       "      <td>3</td>\n",
       "      <td>20220502</td>\n",
       "    </tr>\n",
       "    <tr>\n",
       "      <th>3</th>\n",
       "      <td>5</td>\n",
       "      <td>SV</td>\n",
       "      <td>NB</td>\n",
       "      <td>Stuyvesant Cove</td>\n",
       "      <td>0.0</td>\n",
       "      <td>4</td>\n",
       "      <td>20220502</td>\n",
       "    </tr>\n",
       "    <tr>\n",
       "      <th>4</th>\n",
       "      <td>5</td>\n",
       "      <td>SV</td>\n",
       "      <td>NB</td>\n",
       "      <td>Wall St/Pier 11</td>\n",
       "      <td>0.0</td>\n",
       "      <td>5</td>\n",
       "      <td>20220502</td>\n",
       "    </tr>\n",
       "    <tr>\n",
       "      <th>...</th>\n",
       "      <td>...</td>\n",
       "      <td>...</td>\n",
       "      <td>...</td>\n",
       "      <td>...</td>\n",
       "      <td>...</td>\n",
       "      <td>...</td>\n",
       "      <td>...</td>\n",
       "    </tr>\n",
       "    <tr>\n",
       "      <th>61752</th>\n",
       "      <td>22</td>\n",
       "      <td>ER</td>\n",
       "      <td>SB</td>\n",
       "      <td>Wall St/Pier 11</td>\n",
       "      <td>0.0</td>\n",
       "      <td>50</td>\n",
       "      <td>20220630</td>\n",
       "    </tr>\n",
       "    <tr>\n",
       "      <th>61753</th>\n",
       "      <td>22</td>\n",
       "      <td>ER</td>\n",
       "      <td>SB</td>\n",
       "      <td>Dumbo/Fulton Ferry</td>\n",
       "      <td>18.0</td>\n",
       "      <td>51</td>\n",
       "      <td>20220630</td>\n",
       "    </tr>\n",
       "    <tr>\n",
       "      <th>61754</th>\n",
       "      <td>22</td>\n",
       "      <td>RW</td>\n",
       "      <td>NB</td>\n",
       "      <td>Wall St/Pier 11</td>\n",
       "      <td>0.0</td>\n",
       "      <td>31</td>\n",
       "      <td>20220630</td>\n",
       "    </tr>\n",
       "    <tr>\n",
       "      <th>61755</th>\n",
       "      <td>22</td>\n",
       "      <td>SG</td>\n",
       "      <td>NB</td>\n",
       "      <td>Midtown West/W 39th St-Pier 79</td>\n",
       "      <td>0.0</td>\n",
       "      <td>63</td>\n",
       "      <td>20220630</td>\n",
       "    </tr>\n",
       "    <tr>\n",
       "      <th>61756</th>\n",
       "      <td>22</td>\n",
       "      <td>SG</td>\n",
       "      <td>SB</td>\n",
       "      <td>St. George</td>\n",
       "      <td>0.0</td>\n",
       "      <td>65</td>\n",
       "      <td>20220630</td>\n",
       "    </tr>\n",
       "  </tbody>\n",
       "</table>\n",
       "<p>61757 rows × 7 columns</p>\n",
       "</div>"
      ],
      "text/plain": [
       "      hour route direction                            stop  boardings  \\\n",
       "0        5    RW        NB                        Rockaway       14.0   \n",
       "1        5    RW        NB                 Sunset Park/BAT        4.0   \n",
       "2        5    SV        NB                East 34th Street        1.0   \n",
       "3        5    SV        NB                 Stuyvesant Cove        0.0   \n",
       "4        5    SV        NB                 Wall St/Pier 11        0.0   \n",
       "...    ...   ...       ...                             ...        ...   \n",
       "61752   22    ER        SB                 Wall St/Pier 11        0.0   \n",
       "61753   22    ER        SB              Dumbo/Fulton Ferry       18.0   \n",
       "61754   22    RW        NB                 Wall St/Pier 11        0.0   \n",
       "61755   22    SG        NB  Midtown West/W 39th St-Pier 79        0.0   \n",
       "61756   22    SG        SB                      St. George        0.0   \n",
       "\n",
       "       location_id   date_id  \n",
       "0                1  20220502  \n",
       "1                2  20220502  \n",
       "2                3  20220502  \n",
       "3                4  20220502  \n",
       "4                5  20220502  \n",
       "...            ...       ...  \n",
       "61752           50  20220630  \n",
       "61753           51  20220630  \n",
       "61754           31  20220630  \n",
       "61755           63  20220630  \n",
       "61756           65  20220630  \n",
       "\n",
       "[61757 rows x 7 columns]"
      ]
     },
     "execution_count": 37,
     "metadata": {},
     "output_type": "execute_result"
    }
   ],
   "source": [
    "data"
   ]
  },
  {
   "cell_type": "markdown",
   "metadata": {},
   "source": [
    "### Create time_dim"
   ]
  },
  {
   "cell_type": "code",
   "execution_count": 38,
   "metadata": {},
   "outputs": [],
   "source": [
    "time_ids = []\n",
    "hours = []\n",
    "minutes = []\n",
    "\n",
    "for hour in range(0,24):\n",
    "    for minute in range(0,60):\n",
    "        time_ids.append((str(hour) + str(minute)).zfill(4))\n",
    "        hours.append(hour)\n",
    "        minutes.append(minute)\n",
    "        \n",
    "time_dim_dict = {\"time_id\" : time_ids,\n",
    "                \"hour\" : hours,\n",
    "                \"minute\" : minutes}\n",
    "\n",
    "time_dim = pd.DataFrame(data = time_dim_dict)"
   ]
  },
  {
   "cell_type": "code",
   "execution_count": 39,
   "metadata": {},
   "outputs": [
    {
     "data": {
      "text/html": [
       "<div>\n",
       "<style scoped>\n",
       "    .dataframe tbody tr th:only-of-type {\n",
       "        vertical-align: middle;\n",
       "    }\n",
       "\n",
       "    .dataframe tbody tr th {\n",
       "        vertical-align: top;\n",
       "    }\n",
       "\n",
       "    .dataframe thead th {\n",
       "        text-align: right;\n",
       "    }\n",
       "</style>\n",
       "<table border=\"1\" class=\"dataframe\">\n",
       "  <thead>\n",
       "    <tr style=\"text-align: right;\">\n",
       "      <th></th>\n",
       "      <th>time_id</th>\n",
       "      <th>hour</th>\n",
       "      <th>minute</th>\n",
       "    </tr>\n",
       "  </thead>\n",
       "  <tbody>\n",
       "    <tr>\n",
       "      <th>0</th>\n",
       "      <td>0000</td>\n",
       "      <td>0</td>\n",
       "      <td>0</td>\n",
       "    </tr>\n",
       "    <tr>\n",
       "      <th>1</th>\n",
       "      <td>0001</td>\n",
       "      <td>0</td>\n",
       "      <td>1</td>\n",
       "    </tr>\n",
       "    <tr>\n",
       "      <th>2</th>\n",
       "      <td>0002</td>\n",
       "      <td>0</td>\n",
       "      <td>2</td>\n",
       "    </tr>\n",
       "    <tr>\n",
       "      <th>3</th>\n",
       "      <td>0003</td>\n",
       "      <td>0</td>\n",
       "      <td>3</td>\n",
       "    </tr>\n",
       "    <tr>\n",
       "      <th>4</th>\n",
       "      <td>0004</td>\n",
       "      <td>0</td>\n",
       "      <td>4</td>\n",
       "    </tr>\n",
       "    <tr>\n",
       "      <th>...</th>\n",
       "      <td>...</td>\n",
       "      <td>...</td>\n",
       "      <td>...</td>\n",
       "    </tr>\n",
       "    <tr>\n",
       "      <th>1435</th>\n",
       "      <td>2355</td>\n",
       "      <td>23</td>\n",
       "      <td>55</td>\n",
       "    </tr>\n",
       "    <tr>\n",
       "      <th>1436</th>\n",
       "      <td>2356</td>\n",
       "      <td>23</td>\n",
       "      <td>56</td>\n",
       "    </tr>\n",
       "    <tr>\n",
       "      <th>1437</th>\n",
       "      <td>2357</td>\n",
       "      <td>23</td>\n",
       "      <td>57</td>\n",
       "    </tr>\n",
       "    <tr>\n",
       "      <th>1438</th>\n",
       "      <td>2358</td>\n",
       "      <td>23</td>\n",
       "      <td>58</td>\n",
       "    </tr>\n",
       "    <tr>\n",
       "      <th>1439</th>\n",
       "      <td>2359</td>\n",
       "      <td>23</td>\n",
       "      <td>59</td>\n",
       "    </tr>\n",
       "  </tbody>\n",
       "</table>\n",
       "<p>1440 rows × 3 columns</p>\n",
       "</div>"
      ],
      "text/plain": [
       "     time_id  hour  minute\n",
       "0       0000     0       0\n",
       "1       0001     0       1\n",
       "2       0002     0       2\n",
       "3       0003     0       3\n",
       "4       0004     0       4\n",
       "...      ...   ...     ...\n",
       "1435    2355    23      55\n",
       "1436    2356    23      56\n",
       "1437    2357    23      57\n",
       "1438    2358    23      58\n",
       "1439    2359    23      59\n",
       "\n",
       "[1440 rows x 3 columns]"
      ]
     },
     "execution_count": 39,
     "metadata": {},
     "output_type": "execute_result"
    }
   ],
   "source": [
    "time_dim"
   ]
  },
  {
   "cell_type": "code",
   "execution_count": 40,
   "metadata": {},
   "outputs": [],
   "source": [
    "# USE ZFILL AND PAD here to make time_id\n",
    "data[\"hour\"] = data[\"hour\"].str.zfill(2).str.pad(4, side='right', fillchar='0')"
   ]
  },
  {
   "cell_type": "code",
   "execution_count": 41,
   "metadata": {},
   "outputs": [
    {
     "data": {
      "text/plain": [
       "0        0500\n",
       "1        0500\n",
       "2        0500\n",
       "3        0500\n",
       "4        0500\n",
       "         ... \n",
       "61752    2200\n",
       "61753    2200\n",
       "61754    2200\n",
       "61755    2200\n",
       "61756    2200\n",
       "Name: time_id, Length: 61757, dtype: object"
      ]
     },
     "execution_count": 41,
     "metadata": {},
     "output_type": "execute_result"
    }
   ],
   "source": [
    "data.rename(columns = {'hour':'time_id'}, inplace = True)\n",
    "data[\"time_id\"]"
   ]
  },
  {
   "cell_type": "markdown",
   "metadata": {},
   "source": [
    "### Step 5: Creating Fact(s)"
   ]
  },
  {
   "cell_type": "code",
   "execution_count": 42,
   "metadata": {},
   "outputs": [
    {
     "data": {
      "text/html": [
       "<div>\n",
       "<style scoped>\n",
       "    .dataframe tbody tr th:only-of-type {\n",
       "        vertical-align: middle;\n",
       "    }\n",
       "\n",
       "    .dataframe tbody tr th {\n",
       "        vertical-align: top;\n",
       "    }\n",
       "\n",
       "    .dataframe thead th {\n",
       "        text-align: right;\n",
       "    }\n",
       "</style>\n",
       "<table border=\"1\" class=\"dataframe\">\n",
       "  <thead>\n",
       "    <tr style=\"text-align: right;\">\n",
       "      <th></th>\n",
       "      <th>time_id</th>\n",
       "      <th>route</th>\n",
       "      <th>direction</th>\n",
       "      <th>stop</th>\n",
       "      <th>boardings</th>\n",
       "      <th>location_id</th>\n",
       "      <th>date_id</th>\n",
       "    </tr>\n",
       "  </thead>\n",
       "  <tbody>\n",
       "    <tr>\n",
       "      <th>0</th>\n",
       "      <td>0500</td>\n",
       "      <td>RW</td>\n",
       "      <td>NB</td>\n",
       "      <td>Rockaway</td>\n",
       "      <td>14.0</td>\n",
       "      <td>1</td>\n",
       "      <td>20220502</td>\n",
       "    </tr>\n",
       "    <tr>\n",
       "      <th>1</th>\n",
       "      <td>0500</td>\n",
       "      <td>RW</td>\n",
       "      <td>NB</td>\n",
       "      <td>Sunset Park/BAT</td>\n",
       "      <td>4.0</td>\n",
       "      <td>2</td>\n",
       "      <td>20220502</td>\n",
       "    </tr>\n",
       "    <tr>\n",
       "      <th>2</th>\n",
       "      <td>0500</td>\n",
       "      <td>SV</td>\n",
       "      <td>NB</td>\n",
       "      <td>East 34th Street</td>\n",
       "      <td>1.0</td>\n",
       "      <td>3</td>\n",
       "      <td>20220502</td>\n",
       "    </tr>\n",
       "    <tr>\n",
       "      <th>3</th>\n",
       "      <td>0500</td>\n",
       "      <td>SV</td>\n",
       "      <td>NB</td>\n",
       "      <td>Stuyvesant Cove</td>\n",
       "      <td>0.0</td>\n",
       "      <td>4</td>\n",
       "      <td>20220502</td>\n",
       "    </tr>\n",
       "    <tr>\n",
       "      <th>4</th>\n",
       "      <td>0500</td>\n",
       "      <td>SV</td>\n",
       "      <td>NB</td>\n",
       "      <td>Wall St/Pier 11</td>\n",
       "      <td>0.0</td>\n",
       "      <td>5</td>\n",
       "      <td>20220502</td>\n",
       "    </tr>\n",
       "    <tr>\n",
       "      <th>...</th>\n",
       "      <td>...</td>\n",
       "      <td>...</td>\n",
       "      <td>...</td>\n",
       "      <td>...</td>\n",
       "      <td>...</td>\n",
       "      <td>...</td>\n",
       "      <td>...</td>\n",
       "    </tr>\n",
       "    <tr>\n",
       "      <th>61752</th>\n",
       "      <td>2200</td>\n",
       "      <td>ER</td>\n",
       "      <td>SB</td>\n",
       "      <td>Wall St/Pier 11</td>\n",
       "      <td>0.0</td>\n",
       "      <td>50</td>\n",
       "      <td>20220630</td>\n",
       "    </tr>\n",
       "    <tr>\n",
       "      <th>61753</th>\n",
       "      <td>2200</td>\n",
       "      <td>ER</td>\n",
       "      <td>SB</td>\n",
       "      <td>Dumbo/Fulton Ferry</td>\n",
       "      <td>18.0</td>\n",
       "      <td>51</td>\n",
       "      <td>20220630</td>\n",
       "    </tr>\n",
       "    <tr>\n",
       "      <th>61754</th>\n",
       "      <td>2200</td>\n",
       "      <td>RW</td>\n",
       "      <td>NB</td>\n",
       "      <td>Wall St/Pier 11</td>\n",
       "      <td>0.0</td>\n",
       "      <td>31</td>\n",
       "      <td>20220630</td>\n",
       "    </tr>\n",
       "    <tr>\n",
       "      <th>61755</th>\n",
       "      <td>2200</td>\n",
       "      <td>SG</td>\n",
       "      <td>NB</td>\n",
       "      <td>Midtown West/W 39th St-Pier 79</td>\n",
       "      <td>0.0</td>\n",
       "      <td>63</td>\n",
       "      <td>20220630</td>\n",
       "    </tr>\n",
       "    <tr>\n",
       "      <th>61756</th>\n",
       "      <td>2200</td>\n",
       "      <td>SG</td>\n",
       "      <td>SB</td>\n",
       "      <td>St. George</td>\n",
       "      <td>0.0</td>\n",
       "      <td>65</td>\n",
       "      <td>20220630</td>\n",
       "    </tr>\n",
       "  </tbody>\n",
       "</table>\n",
       "<p>61757 rows × 7 columns</p>\n",
       "</div>"
      ],
      "text/plain": [
       "      time_id route direction                            stop  boardings  \\\n",
       "0        0500    RW        NB                        Rockaway       14.0   \n",
       "1        0500    RW        NB                 Sunset Park/BAT        4.0   \n",
       "2        0500    SV        NB                East 34th Street        1.0   \n",
       "3        0500    SV        NB                 Stuyvesant Cove        0.0   \n",
       "4        0500    SV        NB                 Wall St/Pier 11        0.0   \n",
       "...       ...   ...       ...                             ...        ...   \n",
       "61752    2200    ER        SB                 Wall St/Pier 11        0.0   \n",
       "61753    2200    ER        SB              Dumbo/Fulton Ferry       18.0   \n",
       "61754    2200    RW        NB                 Wall St/Pier 11        0.0   \n",
       "61755    2200    SG        NB  Midtown West/W 39th St-Pier 79        0.0   \n",
       "61756    2200    SG        SB                      St. George        0.0   \n",
       "\n",
       "       location_id   date_id  \n",
       "0                1  20220502  \n",
       "1                2  20220502  \n",
       "2                3  20220502  \n",
       "3                4  20220502  \n",
       "4                5  20220502  \n",
       "...            ...       ...  \n",
       "61752           50  20220630  \n",
       "61753           51  20220630  \n",
       "61754           31  20220630  \n",
       "61755           63  20220630  \n",
       "61756           65  20220630  \n",
       "\n",
       "[61757 rows x 7 columns]"
      ]
     },
     "execution_count": 42,
     "metadata": {},
     "output_type": "execute_result"
    }
   ],
   "source": [
    "data"
   ]
  },
  {
   "cell_type": "code",
   "execution_count": 43,
   "metadata": {},
   "outputs": [
    {
     "data": {
      "text/html": [
       "<div>\n",
       "<style scoped>\n",
       "    .dataframe tbody tr th:only-of-type {\n",
       "        vertical-align: middle;\n",
       "    }\n",
       "\n",
       "    .dataframe tbody tr th {\n",
       "        vertical-align: top;\n",
       "    }\n",
       "\n",
       "    .dataframe thead th {\n",
       "        text-align: right;\n",
       "    }\n",
       "</style>\n",
       "<table border=\"1\" class=\"dataframe\">\n",
       "  <thead>\n",
       "    <tr style=\"text-align: right;\">\n",
       "      <th></th>\n",
       "      <th>time_id</th>\n",
       "      <th>date_id</th>\n",
       "      <th>location_id</th>\n",
       "      <th>boardings</th>\n",
       "    </tr>\n",
       "  </thead>\n",
       "  <tbody>\n",
       "    <tr>\n",
       "      <th>0</th>\n",
       "      <td>0500</td>\n",
       "      <td>20220502</td>\n",
       "      <td>1</td>\n",
       "      <td>14.0</td>\n",
       "    </tr>\n",
       "    <tr>\n",
       "      <th>1</th>\n",
       "      <td>0500</td>\n",
       "      <td>20220502</td>\n",
       "      <td>2</td>\n",
       "      <td>4.0</td>\n",
       "    </tr>\n",
       "    <tr>\n",
       "      <th>2</th>\n",
       "      <td>0500</td>\n",
       "      <td>20220502</td>\n",
       "      <td>3</td>\n",
       "      <td>1.0</td>\n",
       "    </tr>\n",
       "    <tr>\n",
       "      <th>3</th>\n",
       "      <td>0500</td>\n",
       "      <td>20220502</td>\n",
       "      <td>4</td>\n",
       "      <td>0.0</td>\n",
       "    </tr>\n",
       "    <tr>\n",
       "      <th>4</th>\n",
       "      <td>0500</td>\n",
       "      <td>20220502</td>\n",
       "      <td>5</td>\n",
       "      <td>0.0</td>\n",
       "    </tr>\n",
       "    <tr>\n",
       "      <th>...</th>\n",
       "      <td>...</td>\n",
       "      <td>...</td>\n",
       "      <td>...</td>\n",
       "      <td>...</td>\n",
       "    </tr>\n",
       "    <tr>\n",
       "      <th>61752</th>\n",
       "      <td>2200</td>\n",
       "      <td>20220630</td>\n",
       "      <td>50</td>\n",
       "      <td>0.0</td>\n",
       "    </tr>\n",
       "    <tr>\n",
       "      <th>61753</th>\n",
       "      <td>2200</td>\n",
       "      <td>20220630</td>\n",
       "      <td>51</td>\n",
       "      <td>18.0</td>\n",
       "    </tr>\n",
       "    <tr>\n",
       "      <th>61754</th>\n",
       "      <td>2200</td>\n",
       "      <td>20220630</td>\n",
       "      <td>31</td>\n",
       "      <td>0.0</td>\n",
       "    </tr>\n",
       "    <tr>\n",
       "      <th>61755</th>\n",
       "      <td>2200</td>\n",
       "      <td>20220630</td>\n",
       "      <td>63</td>\n",
       "      <td>0.0</td>\n",
       "    </tr>\n",
       "    <tr>\n",
       "      <th>61756</th>\n",
       "      <td>2200</td>\n",
       "      <td>20220630</td>\n",
       "      <td>65</td>\n",
       "      <td>0.0</td>\n",
       "    </tr>\n",
       "  </tbody>\n",
       "</table>\n",
       "<p>61757 rows × 4 columns</p>\n",
       "</div>"
      ],
      "text/plain": [
       "      time_id   date_id  location_id  boardings\n",
       "0        0500  20220502            1       14.0\n",
       "1        0500  20220502            2        4.0\n",
       "2        0500  20220502            3        1.0\n",
       "3        0500  20220502            4        0.0\n",
       "4        0500  20220502            5        0.0\n",
       "...       ...       ...          ...        ...\n",
       "61752    2200  20220630           50        0.0\n",
       "61753    2200  20220630           51       18.0\n",
       "61754    2200  20220630           31        0.0\n",
       "61755    2200  20220630           63        0.0\n",
       "61756    2200  20220630           65        0.0\n",
       "\n",
       "[61757 rows x 4 columns]"
      ]
     },
     "execution_count": 43,
     "metadata": {},
     "output_type": "execute_result"
    }
   ],
   "source": [
    "# take a subset of fact_table for only the needed columns: which are keys and measures\n",
    "# SUBSET your fact_table\n",
    "\n",
    "fact_table = data[[\"time_id\", \"date_id\", \"location_id\", \"boardings\"]]\n",
    "fact_table"
   ]
  },
  {
   "cell_type": "markdown",
   "metadata": {},
   "source": [
    "### Step 6: Deliver Facts and Dimensions to Data Warehouse (BigQuery)"
   ]
  },
  {
   "cell_type": "code",
   "execution_count": 44,
   "metadata": {},
   "outputs": [],
   "source": [
    "# create a function to load dataframes to BigQuery\n",
    "\n",
    "def load_table_to_bigquery(df,\n",
    "                           table_name,\n",
    "                           dataset_id):\n",
    "\n",
    "    dataset_id = dataset_id #change 301800 to match your project id\n",
    "\n",
    "    dataset_ref = bigquery_client.dataset(dataset_id)\n",
    "    job_config = bigquery.LoadJobConfig()\n",
    "    job_config.autodetect = True\n",
    "    job_config.write_disposition = \"WRITE_TRUNCATE\"\n",
    "\n",
    "    upload_table_name = f\"{dataset_id}.{table_name}\"\n",
    "    \n",
    "    load_job = bigquery_client.load_table_from_dataframe(df,\n",
    "                                                upload_table_name,\n",
    "                                                job_config = job_config)\n",
    "        \n",
    "    print(f\"completed job {load_job}\")"
   ]
  },
  {
   "cell_type": "code",
   "execution_count": 45,
   "metadata": {},
   "outputs": [
    {
     "data": {
      "text/plain": [
       "'\\nload_table_to_bigquery(df=fact_table, \\n                       table_name=\"ferry_ridership_fact\", \\n                       dataset_id=dataset_id)\\n                       \\n'"
      ]
     },
     "execution_count": 45,
     "metadata": {},
     "output_type": "execute_result"
    }
   ],
   "source": [
    "# Load each of your tables to bigquery\n",
    "\n",
    "'''\n",
    "load_table_to_bigquery(df=fact_table, \n",
    "                       table_name=\"ferry_ridership_fact\", \n",
    "                       dataset_id=dataset_id)\n",
    "                       \n",
    "'''"
   ]
  },
  {
   "cell_type": "code",
   "execution_count": 46,
   "metadata": {},
   "outputs": [
    {
     "name": "stdout",
     "output_type": "stream",
     "text": [
      "completed job LoadJob<project=cis9440-361100, location=US, id=89ab19e3-87a7-4f19-a350-3942d535bad1>\n"
     ]
    }
   ],
   "source": [
    "'''\n",
    "load_table_to_bigquery(df=location_dim, \n",
    "                       table_name=\"location_dim\", \n",
    "                       dataset_id=dataset_id)\n",
    "'''"
   ]
  },
  {
   "cell_type": "code",
   "execution_count": 47,
   "metadata": {},
   "outputs": [
    {
     "name": "stdout",
     "output_type": "stream",
     "text": [
      "completed job LoadJob<project=cis9440-361100, location=US, id=afb516dc-882e-4bf3-8d25-8f3cd5208dc0>\n"
     ]
    }
   ],
   "source": [
    "'''\n",
    "load_table_to_bigquery(df=date_dim, \n",
    "                       table_name=\"date_dim\", \n",
    "                       dataset_id=dataset_id)\n",
    "'''"
   ]
  },
  {
   "cell_type": "code",
   "execution_count": 48,
   "metadata": {},
   "outputs": [
    {
     "name": "stdout",
     "output_type": "stream",
     "text": [
      "completed job LoadJob<project=cis9440-361100, location=US, id=a3bd0e93-6827-4a59-8165-8fbb06937dbb>\n"
     ]
    }
   ],
   "source": [
    "'''\n",
    "load_table_to_bigquery(df=time_dim, \n",
    "                       table_name=\"time_dim\", \n",
    "                       dataset_id=dataset_id)\n",
    "'''"
   ]
  },
  {
   "cell_type": "code",
   "execution_count": null,
   "metadata": {},
   "outputs": [],
   "source": []
  }
 ],
 "metadata": {
  "kernelspec": {
   "display_name": "Python 3 (ipykernel)",
   "language": "python",
   "name": "python3"
  },
  "language_info": {
   "codemirror_mode": {
    "name": "ipython",
    "version": 3
   },
   "file_extension": ".py",
   "mimetype": "text/x-python",
   "name": "python",
   "nbconvert_exporter": "python",
   "pygments_lexer": "ipython3",
   "version": "3.9.7"
  }
 },
 "nbformat": 4,
 "nbformat_minor": 2
}
